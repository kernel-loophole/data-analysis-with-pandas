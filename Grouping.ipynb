{
 "cells": [
  {
   "cell_type": "code",
   "execution_count": 1,
   "id": "e28355f3",
   "metadata": {},
   "outputs": [],
   "source": [
    "import pandas as pd\n",
    "import numpy as np\n",
    "import matplotlib.pyplot as plt\n",
    "from numba import jit, njit\n",
    "# for parallel programming"
   ]
  },
  {
   "cell_type": "code",
   "execution_count": 2,
   "id": "85b3ce62",
   "metadata": {},
   "outputs": [],
   "source": [
    "np.random.seed(1234)\n",
    "index = pd.date_range(\"10/1/1999\", periods=1100)\n",
    "ts = pd.Series(np.random.normal(0.5, 2, 1100), index)\n",
    "ts = ts.rolling(window=100, min_periods=100).mean().dropna()\n",
    "#dropna drop rows or column which have null vlaues\n",
    "#randomly arrange the value \n",
    "# np.random.normal(0.5,2,10)"
   ]
  },
  {
   "cell_type": "code",
   "execution_count": 3,
   "id": "1bbb520f",
   "metadata": {},
   "outputs": [
    {
     "data": {
      "text/plain": [
       "DatetimeIndex(['1999-10-01', '1999-10-02', '1999-10-03', '1999-10-04',\n",
       "               '1999-10-05', '1999-10-06', '1999-10-07', '1999-10-08',\n",
       "               '1999-10-09', '1999-10-10',\n",
       "               ...\n",
       "               '2002-09-25', '2002-09-26', '2002-09-27', '2002-09-28',\n",
       "               '2002-09-29', '2002-09-30', '2002-10-01', '2002-10-02',\n",
       "               '2002-10-03', '2002-10-04'],\n",
       "              dtype='datetime64[ns]', length=1100, freq='D')"
      ]
     },
     "execution_count": 3,
     "metadata": {},
     "output_type": "execute_result"
    }
   ],
   "source": [
    "\n",
    "index\n"
   ]
  },
  {
   "cell_type": "code",
   "execution_count": 4,
   "id": "80b534f2",
   "metadata": {},
   "outputs": [
    {
     "data": {
      "text/plain": [
       "2000    0.616392\n",
       "2001    0.495943\n",
       "2002    0.372166\n",
       "dtype: float64"
      ]
     },
     "execution_count": 4,
     "metadata": {},
     "output_type": "execute_result"
    }
   ],
   "source": [
    "\n",
    "grouped = ts.groupby(lambda x: x.year)\n",
    "grouped.mean()\n",
    "# grouped.std()"
   ]
  },
  {
   "cell_type": "code",
   "execution_count": 5,
   "id": "c21aca49",
   "metadata": {},
   "outputs": [
    {
     "data": {
      "text/plain": [
       "2000   -2.721438e-17\n",
       "2001    2.229571e-16\n",
       "2002    9.939903e-17\n",
       "dtype: float64"
      ]
     },
     "execution_count": 5,
     "metadata": {},
     "output_type": "execute_result"
    }
   ],
   "source": [
    "transformed = ts.groupby(lambda x: x.year).transform(\n",
    "                        lambda x: (x - x.mean()) / x.std())\n",
    "grouped_trans = transformed.groupby(lambda x: x.year)\n",
    "#The transform method returns an object \n",
    "#that is indexed the same (same size) as the one being grouped\n",
    "grouped_trans.mean()\n"
   ]
  },
  {
   "cell_type": "code",
   "execution_count": 6,
   "id": "c3e52120",
   "metadata": {},
   "outputs": [
    {
     "data": {
      "text/html": [
       "<div>\n",
       "<style scoped>\n",
       "    .dataframe tbody tr th:only-of-type {\n",
       "        vertical-align: middle;\n",
       "    }\n",
       "\n",
       "    .dataframe tbody tr th {\n",
       "        vertical-align: top;\n",
       "    }\n",
       "\n",
       "    .dataframe thead th {\n",
       "        text-align: right;\n",
       "    }\n",
       "</style>\n",
       "<table border=\"1\" class=\"dataframe\">\n",
       "  <thead>\n",
       "    <tr style=\"text-align: right;\">\n",
       "      <th></th>\n",
       "      <th>Original</th>\n",
       "      <th>Transformed</th>\n",
       "    </tr>\n",
       "  </thead>\n",
       "  <tbody>\n",
       "    <tr>\n",
       "      <th>2000-01-08</th>\n",
       "      <td>0.570225</td>\n",
       "      <td>-0.372328</td>\n",
       "    </tr>\n",
       "    <tr>\n",
       "      <th>2000-01-09</th>\n",
       "      <td>0.566620</td>\n",
       "      <td>-0.401398</td>\n",
       "    </tr>\n",
       "    <tr>\n",
       "      <th>2000-01-10</th>\n",
       "      <td>0.601770</td>\n",
       "      <td>-0.117921</td>\n",
       "    </tr>\n",
       "    <tr>\n",
       "      <th>2000-01-11</th>\n",
       "      <td>0.583188</td>\n",
       "      <td>-0.267782</td>\n",
       "    </tr>\n",
       "    <tr>\n",
       "      <th>2000-01-12</th>\n",
       "      <td>0.595147</td>\n",
       "      <td>-0.171337</td>\n",
       "    </tr>\n",
       "    <tr>\n",
       "      <th>...</th>\n",
       "      <td>...</td>\n",
       "      <td>...</td>\n",
       "    </tr>\n",
       "    <tr>\n",
       "      <th>2002-09-30</th>\n",
       "      <td>0.099543</td>\n",
       "      <td>-2.138066</td>\n",
       "    </tr>\n",
       "    <tr>\n",
       "      <th>2002-10-01</th>\n",
       "      <td>0.087771</td>\n",
       "      <td>-2.230385</td>\n",
       "    </tr>\n",
       "    <tr>\n",
       "      <th>2002-10-02</th>\n",
       "      <td>0.076343</td>\n",
       "      <td>-2.320011</td>\n",
       "    </tr>\n",
       "    <tr>\n",
       "      <th>2002-10-03</th>\n",
       "      <td>0.098357</td>\n",
       "      <td>-2.147365</td>\n",
       "    </tr>\n",
       "    <tr>\n",
       "      <th>2002-10-04</th>\n",
       "      <td>0.105230</td>\n",
       "      <td>-2.093467</td>\n",
       "    </tr>\n",
       "  </tbody>\n",
       "</table>\n",
       "<p>1001 rows × 2 columns</p>\n",
       "</div>"
      ],
      "text/plain": [
       "            Original  Transformed\n",
       "2000-01-08  0.570225    -0.372328\n",
       "2000-01-09  0.566620    -0.401398\n",
       "2000-01-10  0.601770    -0.117921\n",
       "2000-01-11  0.583188    -0.267782\n",
       "2000-01-12  0.595147    -0.171337\n",
       "...              ...          ...\n",
       "2002-09-30  0.099543    -2.138066\n",
       "2002-10-01  0.087771    -2.230385\n",
       "2002-10-02  0.076343    -2.320011\n",
       "2002-10-03  0.098357    -2.147365\n",
       "2002-10-04  0.105230    -2.093467\n",
       "\n",
       "[1001 rows x 2 columns]"
      ]
     },
     "execution_count": 6,
     "metadata": {},
     "output_type": "execute_result"
    }
   ],
   "source": [
    "compare = pd.DataFrame({\"Original\": ts, \"Transformed\": transformed})\n",
    "compare"
   ]
  },
  {
   "cell_type": "code",
   "execution_count": 7,
   "id": "5fbac299",
   "metadata": {},
   "outputs": [
    {
     "data": {
      "text/plain": [
       "<AxesSubplot:>"
      ]
     },
     "execution_count": 7,
     "metadata": {},
     "output_type": "execute_result"
    },
    {
     "data": {
      "image/png": "[encoded data removed]",
      "text/plain": [
       "<Figure size 432x288 with 1 Axes>"
      ]
     },
     "metadata": {
      "needs_background": "light"
     },
     "output_type": "display_data"
    }
   ],
   "source": [
    "compare.plot()"
   ]
  },
  {
   "cell_type": "code",
   "execution_count": 8,
   "id": "f221a5a5",
   "metadata": {},
   "outputs": [
    {
     "data": {
      "text/html": [
       "<div>\n",
       "<style scoped>\n",
       "    .dataframe tbody tr th:only-of-type {\n",
       "        vertical-align: middle;\n",
       "    }\n",
       "\n",
       "    .dataframe tbody tr th {\n",
       "        vertical-align: top;\n",
       "    }\n",
       "\n",
       "    .dataframe thead th {\n",
       "        text-align: right;\n",
       "    }\n",
       "</style>\n",
       "<table border=\"1\" class=\"dataframe\">\n",
       "  <thead>\n",
       "    <tr style=\"text-align: right;\">\n",
       "      <th></th>\n",
       "      <th></th>\n",
       "      <th>B</th>\n",
       "    </tr>\n",
       "    <tr>\n",
       "      <th>A</th>\n",
       "      <th></th>\n",
       "      <th></th>\n",
       "    </tr>\n",
       "  </thead>\n",
       "  <tbody>\n",
       "    <tr>\n",
       "      <th rowspan=\"4\" valign=\"top\">1</th>\n",
       "      <th>0</th>\n",
       "      <td>0.0</td>\n",
       "    </tr>\n",
       "    <tr>\n",
       "      <th>1</th>\n",
       "      <td>1.0</td>\n",
       "    </tr>\n",
       "    <tr>\n",
       "      <th>2</th>\n",
       "      <td>3.0</td>\n",
       "    </tr>\n",
       "    <tr>\n",
       "      <th>3</th>\n",
       "      <td>6.0</td>\n",
       "    </tr>\n",
       "  </tbody>\n",
       "</table>\n",
       "</div>"
      ],
      "text/plain": [
       "       B\n",
       "A       \n",
       "1 0  0.0\n",
       "  1  1.0\n",
       "  2  3.0\n",
       "  3  6.0"
      ]
     },
     "execution_count": 8,
     "metadata": {},
     "output_type": "execute_result"
    }
   ],
   "source": [
    "df_re = pd.DataFrame({\"A\": [1] * 10 + [5] * 10, \"B\": np.arange(20)})\n",
    "df_re.groupby([\"A\"]).expanding().sum().head(4)"
   ]
  },
  {
   "cell_type": "code",
   "execution_count": 9,
   "id": "480d2937",
   "metadata": {},
   "outputs": [
    {
     "data": {
      "text/plain": [
       "0      NaN\n",
       "1      NaN\n",
       "2      NaN\n",
       "3      NaN\n",
       "4      NaN\n",
       "5      NaN\n",
       "6      NaN\n",
       "7      NaN\n",
       "8      NaN\n",
       "9     11.0\n",
       "10    12.0\n",
       "11    13.0\n",
       "12    14.0\n",
       "13    15.0\n",
       "14    16.0\n",
       "15    17.0\n",
       "16    18.0\n",
       "17    19.0\n",
       "dtype: float64"
      ]
     },
     "execution_count": 9,
     "metadata": {},
     "output_type": "execute_result"
    }
   ],
   "source": [
    "sf=pd.Series(np.arange(2,20))\n",
    "sf.groupby([sf]).filter(lambda x:x.sum()>10,dropna=False)\n",
    "#The filter method returns a subset of the original object. Suppose \n",
    "#we want to take only elements that belong to\n",
    "#groups with a group sum greater than 10."
   ]
  },
  {
   "cell_type": "code",
   "execution_count": 10,
   "id": "756f077a",
   "metadata": {},
   "outputs": [
    {
     "data": {
      "text/plain": [
       "2000  count    3.590000e+02\n",
       "      mean     0.000000e+00\n",
       "      std      1.000000e+00\n",
       "      min     -2.486725e+00\n",
       "      25%     -6.350667e-01\n",
       "      50%      2.548111e-02\n",
       "      75%      7.236842e-01\n",
       "      max      2.362403e+00\n",
       "2001  count    3.650000e+02\n",
       "      mean     1.946692e-16\n",
       "      std      1.000000e+00\n",
       "      min     -1.977395e+00\n",
       "      25%     -7.460023e-01\n",
       "      50%      5.150435e-03\n",
       "      75%      7.768001e-01\n",
       "      max      2.166472e+00\n",
       "2002  count    2.770000e+02\n",
       "      mean     1.026054e-16\n",
       "      std      1.000000e+00\n",
       "      min     -2.703015e+00\n",
       "      25%     -6.650818e-01\n",
       "      50%     -3.166215e-02\n",
       "      75%      8.789301e-01\n",
       "      max      2.075495e+00\n",
       "dtype: float64"
      ]
     },
     "execution_count": 10,
     "metadata": {},
     "output_type": "execute_result"
    }
   ],
   "source": [
    "grouped_trans.apply(lambda x:x.describe())\n",
    "#Some operations on the grouped data might not fit into either the aggregate or transform categories. \n",
    "#Or, you may simply\n",
    "#want GroupBy to infer how to combine the results. \n",
    "#For these, use the apply function, which can be substituted for both\n",
    "#aggregate and transform in many standard use cases. However, \n",
    "#apply can handle some exceptional use cases, for\n",
    "#example:"
   ]
  },
  {
   "cell_type": "code",
   "execution_count": 11,
   "id": "ca637386",
   "metadata": {},
   "outputs": [],
   "source": [
    "def sum_and_mean_function(group):\n",
    "    return pd.DataFrame({'original': group,\n",
    "'demeaned': group - group.mean()})"
   ]
  },
  {
   "cell_type": "code",
   "execution_count": 12,
   "id": "2922ea0b",
   "metadata": {},
   "outputs": [
    {
     "data": {
      "text/html": [
       "<div>\n",
       "<style scoped>\n",
       "    .dataframe tbody tr th:only-of-type {\n",
       "        vertical-align: middle;\n",
       "    }\n",
       "\n",
       "    .dataframe tbody tr th {\n",
       "        vertical-align: top;\n",
       "    }\n",
       "\n",
       "    .dataframe thead th {\n",
       "        text-align: right;\n",
       "    }\n",
       "</style>\n",
       "<table border=\"1\" class=\"dataframe\">\n",
       "  <thead>\n",
       "    <tr style=\"text-align: right;\">\n",
       "      <th></th>\n",
       "      <th>original</th>\n",
       "      <th>demeaned</th>\n",
       "    </tr>\n",
       "  </thead>\n",
       "  <tbody>\n",
       "    <tr>\n",
       "      <th>2000-01-08</th>\n",
       "      <td>-0.372328</td>\n",
       "      <td>-0.372328</td>\n",
       "    </tr>\n",
       "    <tr>\n",
       "      <th>2000-01-09</th>\n",
       "      <td>-0.401398</td>\n",
       "      <td>-0.401398</td>\n",
       "    </tr>\n",
       "    <tr>\n",
       "      <th>2000-01-10</th>\n",
       "      <td>-0.117921</td>\n",
       "      <td>-0.117921</td>\n",
       "    </tr>\n",
       "    <tr>\n",
       "      <th>2000-01-11</th>\n",
       "      <td>-0.267782</td>\n",
       "      <td>-0.267782</td>\n",
       "    </tr>\n",
       "    <tr>\n",
       "      <th>2000-01-12</th>\n",
       "      <td>-0.171337</td>\n",
       "      <td>-0.171337</td>\n",
       "    </tr>\n",
       "    <tr>\n",
       "      <th>...</th>\n",
       "      <td>...</td>\n",
       "      <td>...</td>\n",
       "    </tr>\n",
       "    <tr>\n",
       "      <th>2002-09-30</th>\n",
       "      <td>-2.138066</td>\n",
       "      <td>-2.138066</td>\n",
       "    </tr>\n",
       "    <tr>\n",
       "      <th>2002-10-01</th>\n",
       "      <td>-2.230385</td>\n",
       "      <td>-2.230385</td>\n",
       "    </tr>\n",
       "    <tr>\n",
       "      <th>2002-10-02</th>\n",
       "      <td>-2.320011</td>\n",
       "      <td>-2.320011</td>\n",
       "    </tr>\n",
       "    <tr>\n",
       "      <th>2002-10-03</th>\n",
       "      <td>-2.147365</td>\n",
       "      <td>-2.147365</td>\n",
       "    </tr>\n",
       "    <tr>\n",
       "      <th>2002-10-04</th>\n",
       "      <td>-2.093467</td>\n",
       "      <td>-2.093467</td>\n",
       "    </tr>\n",
       "  </tbody>\n",
       "</table>\n",
       "<p>1001 rows × 2 columns</p>\n",
       "</div>"
      ],
      "text/plain": [
       "            original  demeaned\n",
       "2000-01-08 -0.372328 -0.372328\n",
       "2000-01-09 -0.401398 -0.401398\n",
       "2000-01-10 -0.117921 -0.117921\n",
       "2000-01-11 -0.267782 -0.267782\n",
       "2000-01-12 -0.171337 -0.171337\n",
       "...              ...       ...\n",
       "2002-09-30 -2.138066 -2.138066\n",
       "2002-10-01 -2.230385 -2.230385\n",
       "2002-10-02 -2.320011 -2.320011\n",
       "2002-10-03 -2.147365 -2.147365\n",
       "2002-10-04 -2.093467 -2.093467\n",
       "\n",
       "[1001 rows x 2 columns]"
      ]
     },
     "execution_count": 12,
     "metadata": {},
     "output_type": "execute_result"
    }
   ],
   "source": [
    "grouped_trans.apply(sum_and_mean_function)"
   ]
  },
  {
   "cell_type": "code",
   "execution_count": 13,
   "id": "5fb81d75",
   "metadata": {},
   "outputs": [
    {
     "data": {
      "text/plain": [
       "a    4\n",
       "b    2\n",
       "dtype: int64"
      ]
     },
     "execution_count": 13,
     "metadata": {},
     "output_type": "execute_result"
    }
   ],
   "source": [
    "#category\n",
    "new_data_frame=pd.Series(np.arange(50,90,4.8)).groupby(pd.Categorical([\"a\",\"a\",\"c\",\"l\",\"b\",\"a\",\"a\",\"c\",\"b\"]\n",
    "                                                                      ,categories=[\"a\",\"b\"])\n",
    "                                                       ,observed=True).count()\n",
    "new_data_frame"
   ]
  },
  {
   "cell_type": "code",
   "execution_count": 14,
   "id": "73bdb308",
   "metadata": {},
   "outputs": [
    {
     "data": {
      "text/plain": [
       "2000   -0.117921\n",
       "2001   -0.928741\n",
       "2002    0.321085\n",
       "dtype: float64"
      ]
     },
     "execution_count": 14,
     "metadata": {},
     "output_type": "execute_result"
    }
   ],
   "source": [
    "grouped_trans.nth(2,dropna=\"all\")"
   ]
  },
  {
   "cell_type": "code",
   "execution_count": 18,
   "id": "8d4c7e53",
   "metadata": {},
   "outputs": [],
   "source": [
    "business_dates = pd.date_range(start=\"4/1/2014\", end=\"6/30/2014\", freq=\"B\")"
   ]
  },
  {
   "cell_type": "code",
   "execution_count": 26,
   "id": "40afe7e6",
   "metadata": {},
   "outputs": [
    {
     "data": {
      "text/html": [
       "<div>\n",
       "<style scoped>\n",
       "    .dataframe tbody tr th:only-of-type {\n",
       "        vertical-align: middle;\n",
       "    }\n",
       "\n",
       "    .dataframe tbody tr th {\n",
       "        vertical-align: top;\n",
       "    }\n",
       "\n",
       "    .dataframe thead th {\n",
       "        text-align: right;\n",
       "    }\n",
       "</style>\n",
       "<table border=\"1\" class=\"dataframe\">\n",
       "  <thead>\n",
       "    <tr style=\"text-align: right;\">\n",
       "      <th></th>\n",
       "      <th></th>\n",
       "      <th></th>\n",
       "      <th>a</th>\n",
       "      <th>b</th>\n",
       "    </tr>\n",
       "  </thead>\n",
       "  <tbody>\n",
       "    <tr>\n",
       "      <th rowspan=\"30\" valign=\"top\">2014</th>\n",
       "      <th rowspan=\"10\" valign=\"top\">4</th>\n",
       "      <th>0</th>\n",
       "      <td>1</td>\n",
       "      <td>1</td>\n",
       "    </tr>\n",
       "    <tr>\n",
       "      <th>0</th>\n",
       "      <td>1</td>\n",
       "      <td>1</td>\n",
       "    </tr>\n",
       "    <tr>\n",
       "      <th>1</th>\n",
       "      <td>1</td>\n",
       "      <td>1</td>\n",
       "    </tr>\n",
       "    <tr>\n",
       "      <th>1</th>\n",
       "      <td>1</td>\n",
       "      <td>1</td>\n",
       "    </tr>\n",
       "    <tr>\n",
       "      <th>2</th>\n",
       "      <td>1</td>\n",
       "      <td>1</td>\n",
       "    </tr>\n",
       "    <tr>\n",
       "      <th>2</th>\n",
       "      <td>1</td>\n",
       "      <td>1</td>\n",
       "    </tr>\n",
       "    <tr>\n",
       "      <th>3</th>\n",
       "      <td>1</td>\n",
       "      <td>1</td>\n",
       "    </tr>\n",
       "    <tr>\n",
       "      <th>3</th>\n",
       "      <td>1</td>\n",
       "      <td>1</td>\n",
       "    </tr>\n",
       "    <tr>\n",
       "      <th>4</th>\n",
       "      <td>1</td>\n",
       "      <td>1</td>\n",
       "    </tr>\n",
       "    <tr>\n",
       "      <th>4</th>\n",
       "      <td>1</td>\n",
       "      <td>1</td>\n",
       "    </tr>\n",
       "    <tr>\n",
       "      <th rowspan=\"10\" valign=\"top\">5</th>\n",
       "      <th>0</th>\n",
       "      <td>1</td>\n",
       "      <td>1</td>\n",
       "    </tr>\n",
       "    <tr>\n",
       "      <th>0</th>\n",
       "      <td>1</td>\n",
       "      <td>1</td>\n",
       "    </tr>\n",
       "    <tr>\n",
       "      <th>1</th>\n",
       "      <td>1</td>\n",
       "      <td>1</td>\n",
       "    </tr>\n",
       "    <tr>\n",
       "      <th>1</th>\n",
       "      <td>1</td>\n",
       "      <td>1</td>\n",
       "    </tr>\n",
       "    <tr>\n",
       "      <th>2</th>\n",
       "      <td>1</td>\n",
       "      <td>1</td>\n",
       "    </tr>\n",
       "    <tr>\n",
       "      <th>2</th>\n",
       "      <td>1</td>\n",
       "      <td>1</td>\n",
       "    </tr>\n",
       "    <tr>\n",
       "      <th>3</th>\n",
       "      <td>1</td>\n",
       "      <td>1</td>\n",
       "    </tr>\n",
       "    <tr>\n",
       "      <th>3</th>\n",
       "      <td>1</td>\n",
       "      <td>1</td>\n",
       "    </tr>\n",
       "    <tr>\n",
       "      <th>4</th>\n",
       "      <td>1</td>\n",
       "      <td>1</td>\n",
       "    </tr>\n",
       "    <tr>\n",
       "      <th>4</th>\n",
       "      <td>1</td>\n",
       "      <td>1</td>\n",
       "    </tr>\n",
       "    <tr>\n",
       "      <th rowspan=\"10\" valign=\"top\">6</th>\n",
       "      <th>0</th>\n",
       "      <td>1</td>\n",
       "      <td>1</td>\n",
       "    </tr>\n",
       "    <tr>\n",
       "      <th>0</th>\n",
       "      <td>1</td>\n",
       "      <td>1</td>\n",
       "    </tr>\n",
       "    <tr>\n",
       "      <th>1</th>\n",
       "      <td>1</td>\n",
       "      <td>1</td>\n",
       "    </tr>\n",
       "    <tr>\n",
       "      <th>1</th>\n",
       "      <td>1</td>\n",
       "      <td>1</td>\n",
       "    </tr>\n",
       "    <tr>\n",
       "      <th>2</th>\n",
       "      <td>1</td>\n",
       "      <td>1</td>\n",
       "    </tr>\n",
       "    <tr>\n",
       "      <th>2</th>\n",
       "      <td>1</td>\n",
       "      <td>1</td>\n",
       "    </tr>\n",
       "    <tr>\n",
       "      <th>3</th>\n",
       "      <td>1</td>\n",
       "      <td>1</td>\n",
       "    </tr>\n",
       "    <tr>\n",
       "      <th>3</th>\n",
       "      <td>1</td>\n",
       "      <td>1</td>\n",
       "    </tr>\n",
       "    <tr>\n",
       "      <th>4</th>\n",
       "      <td>1</td>\n",
       "      <td>1</td>\n",
       "    </tr>\n",
       "    <tr>\n",
       "      <th>4</th>\n",
       "      <td>1</td>\n",
       "      <td>1</td>\n",
       "    </tr>\n",
       "  </tbody>\n",
       "</table>\n",
       "</div>"
      ],
      "text/plain": [
       "          a  b\n",
       "2014 4 0  1  1\n",
       "       0  1  1\n",
       "       1  1  1\n",
       "       1  1  1\n",
       "       2  1  1\n",
       "       2  1  1\n",
       "       3  1  1\n",
       "       3  1  1\n",
       "       4  1  1\n",
       "       4  1  1\n",
       "     5 0  1  1\n",
       "       0  1  1\n",
       "       1  1  1\n",
       "       1  1  1\n",
       "       2  1  1\n",
       "       2  1  1\n",
       "       3  1  1\n",
       "       3  1  1\n",
       "       4  1  1\n",
       "       4  1  1\n",
       "     6 0  1  1\n",
       "       0  1  1\n",
       "       1  1  1\n",
       "       1  1  1\n",
       "       2  1  1\n",
       "       2  1  1\n",
       "       3  1  1\n",
       "       3  1  1\n",
       "       4  1  1\n",
       "       4  1  1"
      ]
     },
     "execution_count": 26,
     "metadata": {},
     "output_type": "execute_result"
    }
   ],
   "source": [
    "df = pd.DataFrame(1, index=business_dates, columns=[\"a\", \"b\"])\n",
    "df.groupby([df.index.year, df.index.month,df.index.weekday]).nth([2, 4, -1])\n"
   ]
  },
  {
   "cell_type": "code",
   "execution_count": 17,
   "id": "75609137",
   "metadata": {},
   "outputs": [
    {
     "data": {
      "text/plain": [
       "2000-01-08      0\n",
       "2000-01-09      1\n",
       "2000-01-10      2\n",
       "2000-01-11      3\n",
       "2000-01-12      4\n",
       "             ... \n",
       "2002-09-30    272\n",
       "2002-10-01    273\n",
       "2002-10-02    274\n",
       "2002-10-03    275\n",
       "2002-10-04    276\n",
       "Freq: D, Length: 1001, dtype: int64"
      ]
     },
     "execution_count": 17,
     "metadata": {},
     "output_type": "execute_result"
    }
   ],
   "source": [
    "grouped_trans.cumcount(ascending=True)\n",
    "#To see the order in which each row appears within its group, use the cumcount method:"
   ]
  },
  {
   "cell_type": "code",
   "execution_count": 41,
   "id": "cb096d54",
   "metadata": {},
   "outputs": [
    {
     "data": {
      "text/html": [
       "<div>\n",
       "<style scoped>\n",
       "    .dataframe tbody tr th:only-of-type {\n",
       "        vertical-align: middle;\n",
       "    }\n",
       "\n",
       "    .dataframe tbody tr th {\n",
       "        vertical-align: top;\n",
       "    }\n",
       "\n",
       "    .dataframe thead th {\n",
       "        text-align: right;\n",
       "    }\n",
       "</style>\n",
       "<table border=\"1\" class=\"dataframe\">\n",
       "  <thead>\n",
       "    <tr style=\"text-align: right;\">\n",
       "      <th></th>\n",
       "      <th>A</th>\n",
       "      <th>B</th>\n",
       "    </tr>\n",
       "  </thead>\n",
       "  <tbody>\n",
       "    <tr>\n",
       "      <th>25%</th>\n",
       "      <td>1.75000</td>\n",
       "      <td>NaN</td>\n",
       "    </tr>\n",
       "    <tr>\n",
       "      <th>50%</th>\n",
       "      <td>3.50000</td>\n",
       "      <td>NaN</td>\n",
       "    </tr>\n",
       "    <tr>\n",
       "      <th>75%</th>\n",
       "      <td>5.25000</td>\n",
       "      <td>NaN</td>\n",
       "    </tr>\n",
       "    <tr>\n",
       "      <th>count</th>\n",
       "      <td>8.00000</td>\n",
       "      <td>8</td>\n",
       "    </tr>\n",
       "    <tr>\n",
       "      <th>freq</th>\n",
       "      <td>NaN</td>\n",
       "      <td>4</td>\n",
       "    </tr>\n",
       "    <tr>\n",
       "      <th>max</th>\n",
       "      <td>7.00000</td>\n",
       "      <td>NaN</td>\n",
       "    </tr>\n",
       "    <tr>\n",
       "      <th>mean</th>\n",
       "      <td>3.50000</td>\n",
       "      <td>NaN</td>\n",
       "    </tr>\n",
       "    <tr>\n",
       "      <th>min</th>\n",
       "      <td>0.00000</td>\n",
       "      <td>NaN</td>\n",
       "    </tr>\n",
       "    <tr>\n",
       "      <th>std</th>\n",
       "      <td>2.44949</td>\n",
       "      <td>NaN</td>\n",
       "    </tr>\n",
       "    <tr>\n",
       "      <th>top</th>\n",
       "      <td>NaN</td>\n",
       "      <td>b</td>\n",
       "    </tr>\n",
       "    <tr>\n",
       "      <th>unique</th>\n",
       "      <td>NaN</td>\n",
       "      <td>3</td>\n",
       "    </tr>\n",
       "  </tbody>\n",
       "</table>\n",
       "</div>"
      ],
      "text/plain": [
       "              A    B\n",
       "25%     1.75000  NaN\n",
       "50%     3.50000  NaN\n",
       "75%     5.25000  NaN\n",
       "count   8.00000    8\n",
       "freq        NaN    4\n",
       "max     7.00000  NaN\n",
       "mean    3.50000  NaN\n",
       "min     0.00000  NaN\n",
       "std     2.44949  NaN\n",
       "top         NaN    b\n",
       "unique      NaN    3"
      ]
     },
     "execution_count": 41,
     "metadata": {},
     "output_type": "execute_result"
    }
   ],
   "source": [
    "dff = pd.DataFrame({\"A\": np.arange(8), \"B\": list(\"aabbbbcc\")})\n",
    "dff.apply(lambda x:x.describe())\n",
    "#Some operations on the grouped data might not fit into either the aggregate or transform categories.\n",
    "#Or, you may simply\n",
    "#want GroupBy to infer how to combine the results. For these, use the apply function,\n",
    "#which can be substituted for both\n",
    "#aggregate and transform in many standard use cases. However, \n",
    "#apply can handle some exceptional use cases, for\n"
   ]
  },
  {
   "cell_type": "code",
   "execution_count": 59,
   "id": "1a6704d0",
   "metadata": {},
   "outputs": [
    {
     "data": {
      "text/html": [
       "<div>\n",
       "<style scoped>\n",
       "    .dataframe tbody tr th:only-of-type {\n",
       "        vertical-align: middle;\n",
       "    }\n",
       "\n",
       "    .dataframe tbody tr th {\n",
       "        vertical-align: top;\n",
       "    }\n",
       "\n",
       "    .dataframe thead th {\n",
       "        text-align: right;\n",
       "    }\n",
       "</style>\n",
       "<table border=\"1\" class=\"dataframe\">\n",
       "  <thead>\n",
       "    <tr style=\"text-align: right;\">\n",
       "      <th></th>\n",
       "      <th>A</th>\n",
       "      <th>B</th>\n",
       "    </tr>\n",
       "  </thead>\n",
       "  <tbody>\n",
       "    <tr>\n",
       "      <th>0</th>\n",
       "      <td>NaN</td>\n",
       "      <td>NaN</td>\n",
       "    </tr>\n",
       "    <tr>\n",
       "      <th>1</th>\n",
       "      <td>NaN</td>\n",
       "      <td>NaN</td>\n",
       "    </tr>\n",
       "    <tr>\n",
       "      <th>2</th>\n",
       "      <td>2.0</td>\n",
       "      <td>b</td>\n",
       "    </tr>\n",
       "    <tr>\n",
       "      <th>3</th>\n",
       "      <td>3.0</td>\n",
       "      <td>b</td>\n",
       "    </tr>\n",
       "    <tr>\n",
       "      <th>4</th>\n",
       "      <td>4.0</td>\n",
       "      <td>b</td>\n",
       "    </tr>\n",
       "    <tr>\n",
       "      <th>5</th>\n",
       "      <td>5.0</td>\n",
       "      <td>b</td>\n",
       "    </tr>\n",
       "    <tr>\n",
       "      <th>6</th>\n",
       "      <td>NaN</td>\n",
       "      <td>NaN</td>\n",
       "    </tr>\n",
       "    <tr>\n",
       "      <th>7</th>\n",
       "      <td>NaN</td>\n",
       "      <td>NaN</td>\n",
       "    </tr>\n",
       "  </tbody>\n",
       "</table>\n",
       "</div>"
      ],
      "text/plain": [
       "     A    B\n",
       "0  NaN  NaN\n",
       "1  NaN  NaN\n",
       "2  2.0    b\n",
       "3  3.0    b\n",
       "4  4.0    b\n",
       "5  5.0    b\n",
       "6  NaN  NaN\n",
       "7  NaN  NaN"
      ]
     },
     "execution_count": 59,
     "metadata": {},
     "output_type": "execute_result"
    }
   ],
   "source": [
    "def f(group):\n",
    "    return pd.DataFrame({\"original\":group,\"demanded\":group})\n",
    "#filtering the data \n",
    "# filter will take an function argumnet and return values \n",
    "# in this case lambda function\n",
    "dff.groupby(\"B\").filter(lambda x: len(x) > 2,dropna=False)\n",
    "\n",
    "\n"
   ]
  },
  {
   "cell_type": "code",
   "execution_count": null,
   "id": "3cb78f56",
   "metadata": {},
   "outputs": [],
   "source": [
    "\n"
   ]
  },
  {
   "cell_type": "markdown",
   "id": "09aa4802",
   "metadata": {},
   "source": [
    "hjhhl\n"
   ]
  },
  {
   "cell_type": "code",
   "execution_count": null,
   "id": "598ba8ef",
   "metadata": {},
   "outputs": [],
   "source": []
  }
 ],
 "metadata": {
  "kernelspec": {
   "display_name": "Python 3 (ipykernel)",
   "language": "python",
   "name": "python3"
  },
  "language_info": {
   "codemirror_mode": {
    "name": "ipython",
    "version": 3
   },
   "file_extension": ".py",
   "mimetype": "text/x-python",
   "name": "python",
   "nbconvert_exporter": "python",
   "pygments_lexer": "ipython3",
   "version": "3.8.10"
  }
 },
 "nbformat": 4,
 "nbformat_minor": 5
}
