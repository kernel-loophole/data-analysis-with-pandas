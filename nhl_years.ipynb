{
 "cells": [
  {
   "cell_type": "code",
   "execution_count": 105,
   "id": "41b744cd",
   "metadata": {},
   "outputs": [],
   "source": [
    "import pandas as pd\n",
    "import numpy as np\n",
    "import matplotlib.pyplot as plt"
   ]
  },
  {
   "cell_type": "code",
   "execution_count": 106,
   "id": "48f37d53",
   "metadata": {},
   "outputs": [
    {
     "data": {
      "text/html": [
       "<div>\n",
       "<style scoped>\n",
       "    .dataframe tbody tr th:only-of-type {\n",
       "        vertical-align: middle;\n",
       "    }\n",
       "\n",
       "    .dataframe tbody tr th {\n",
       "        vertical-align: top;\n",
       "    }\n",
       "\n",
       "    .dataframe thead th {\n",
       "        text-align: right;\n",
       "    }\n",
       "</style>\n",
       "<table border=\"1\" class=\"dataframe\">\n",
       "  <thead>\n",
       "    <tr style=\"text-align: right;\">\n",
       "      <th></th>\n",
       "      <th>season</th>\n",
       "      <th>date</th>\n",
       "      <th>playoff</th>\n",
       "      <th>neutral</th>\n",
       "      <th>status</th>\n",
       "      <th>ot</th>\n",
       "      <th>home_team</th>\n",
       "      <th>away_team</th>\n",
       "      <th>home_team_abbr</th>\n",
       "      <th>away_team_abbr</th>\n",
       "      <th>...</th>\n",
       "      <th>overtime_prob</th>\n",
       "      <th>home_team_expected_points</th>\n",
       "      <th>away_team_expected_points</th>\n",
       "      <th>home_team_score</th>\n",
       "      <th>away_team_score</th>\n",
       "      <th>home_team_postgame_rating</th>\n",
       "      <th>away_team_postgame_rating</th>\n",
       "      <th>game_quality_rating</th>\n",
       "      <th>game_importance_rating</th>\n",
       "      <th>game_overall_rating</th>\n",
       "    </tr>\n",
       "  </thead>\n",
       "  <tbody>\n",
       "    <tr>\n",
       "      <th>0</th>\n",
       "      <td>1918</td>\n",
       "      <td>1917-12-18</td>\n",
       "      <td>0</td>\n",
       "      <td>0</td>\n",
       "      <td>post</td>\n",
       "      <td>NaN</td>\n",
       "      <td>Montreal Wanderers</td>\n",
       "      <td>Toronto Maple Leafs</td>\n",
       "      <td>MTW</td>\n",
       "      <td>TOR</td>\n",
       "      <td>...</td>\n",
       "      <td>0.234852</td>\n",
       "      <td>1.243569</td>\n",
       "      <td>0.991283</td>\n",
       "      <td>10.0</td>\n",
       "      <td>9.0</td>\n",
       "      <td>1382.020049</td>\n",
       "      <td>1377.979951</td>\n",
       "      <td>0</td>\n",
       "      <td>NaN</td>\n",
       "      <td>NaN</td>\n",
       "    </tr>\n",
       "    <tr>\n",
       "      <th>1</th>\n",
       "      <td>1918</td>\n",
       "      <td>1917-12-18</td>\n",
       "      <td>0</td>\n",
       "      <td>0</td>\n",
       "      <td>post</td>\n",
       "      <td>NaN</td>\n",
       "      <td>Ottawa Senators</td>\n",
       "      <td>Montreal Canadiens</td>\n",
       "      <td>OTS</td>\n",
       "      <td>MTL</td>\n",
       "      <td>...</td>\n",
       "      <td>0.234852</td>\n",
       "      <td>1.243569</td>\n",
       "      <td>0.991283</td>\n",
       "      <td>4.0</td>\n",
       "      <td>7.0</td>\n",
       "      <td>1374.590020</td>\n",
       "      <td>1385.409980</td>\n",
       "      <td>0</td>\n",
       "      <td>NaN</td>\n",
       "      <td>NaN</td>\n",
       "    </tr>\n",
       "    <tr>\n",
       "      <th>2</th>\n",
       "      <td>1918</td>\n",
       "      <td>1917-12-20</td>\n",
       "      <td>0</td>\n",
       "      <td>0</td>\n",
       "      <td>post</td>\n",
       "      <td>NaN</td>\n",
       "      <td>Montreal Wanderers</td>\n",
       "      <td>Montreal Canadiens</td>\n",
       "      <td>MTW</td>\n",
       "      <td>MTL</td>\n",
       "      <td>...</td>\n",
       "      <td>0.235451</td>\n",
       "      <td>1.235382</td>\n",
       "      <td>1.000069</td>\n",
       "      <td>2.0</td>\n",
       "      <td>11.0</td>\n",
       "      <td>1374.108886</td>\n",
       "      <td>1393.321143</td>\n",
       "      <td>0</td>\n",
       "      <td>NaN</td>\n",
       "      <td>NaN</td>\n",
       "    </tr>\n",
       "    <tr>\n",
       "      <th>3</th>\n",
       "      <td>1918</td>\n",
       "      <td>1917-12-20</td>\n",
       "      <td>0</td>\n",
       "      <td>0</td>\n",
       "      <td>post</td>\n",
       "      <td>NaN</td>\n",
       "      <td>Toronto Maple Leafs</td>\n",
       "      <td>Ottawa Senators</td>\n",
       "      <td>TOR</td>\n",
       "      <td>OTS</td>\n",
       "      <td>...</td>\n",
       "      <td>0.234254</td>\n",
       "      <td>1.251739</td>\n",
       "      <td>0.982515</td>\n",
       "      <td>11.0</td>\n",
       "      <td>4.0</td>\n",
       "      <td>1383.198318</td>\n",
       "      <td>1369.371652</td>\n",
       "      <td>0</td>\n",
       "      <td>NaN</td>\n",
       "      <td>NaN</td>\n",
       "    </tr>\n",
       "    <tr>\n",
       "      <th>4</th>\n",
       "      <td>1918</td>\n",
       "      <td>1917-12-25</td>\n",
       "      <td>0</td>\n",
       "      <td>0</td>\n",
       "      <td>post</td>\n",
       "      <td>NaN</td>\n",
       "      <td>Toronto Maple Leafs</td>\n",
       "      <td>Montreal Canadiens</td>\n",
       "      <td>TOR</td>\n",
       "      <td>MTL</td>\n",
       "      <td>...</td>\n",
       "      <td>0.236643</td>\n",
       "      <td>1.219075</td>\n",
       "      <td>1.017568</td>\n",
       "      <td>7.0</td>\n",
       "      <td>5.0</td>\n",
       "      <td>1386.503950</td>\n",
       "      <td>1390.015512</td>\n",
       "      <td>0</td>\n",
       "      <td>NaN</td>\n",
       "      <td>NaN</td>\n",
       "    </tr>\n",
       "    <tr>\n",
       "      <th>...</th>\n",
       "      <td>...</td>\n",
       "      <td>...</td>\n",
       "      <td>...</td>\n",
       "      <td>...</td>\n",
       "      <td>...</td>\n",
       "      <td>...</td>\n",
       "      <td>...</td>\n",
       "      <td>...</td>\n",
       "      <td>...</td>\n",
       "      <td>...</td>\n",
       "      <td>...</td>\n",
       "      <td>...</td>\n",
       "      <td>...</td>\n",
       "      <td>...</td>\n",
       "      <td>...</td>\n",
       "      <td>...</td>\n",
       "      <td>...</td>\n",
       "      <td>...</td>\n",
       "      <td>...</td>\n",
       "      <td>...</td>\n",
       "      <td>...</td>\n",
       "    </tr>\n",
       "    <tr>\n",
       "      <th>64623</th>\n",
       "      <td>2022</td>\n",
       "      <td>2022-04-29</td>\n",
       "      <td>0</td>\n",
       "      <td>0</td>\n",
       "      <td>pre</td>\n",
       "      <td>NaN</td>\n",
       "      <td>St. Louis Blues</td>\n",
       "      <td>Vegas Golden Knights</td>\n",
       "      <td>STL</td>\n",
       "      <td>VEG</td>\n",
       "      <td>...</td>\n",
       "      <td>0.233013</td>\n",
       "      <td>1.276983</td>\n",
       "      <td>0.956031</td>\n",
       "      <td>NaN</td>\n",
       "      <td>NaN</td>\n",
       "      <td>NaN</td>\n",
       "      <td>NaN</td>\n",
       "      <td>92</td>\n",
       "      <td>91.0</td>\n",
       "      <td>91.0</td>\n",
       "    </tr>\n",
       "    <tr>\n",
       "      <th>64624</th>\n",
       "      <td>2022</td>\n",
       "      <td>2022-04-29</td>\n",
       "      <td>0</td>\n",
       "      <td>0</td>\n",
       "      <td>pre</td>\n",
       "      <td>NaN</td>\n",
       "      <td>Dallas Stars</td>\n",
       "      <td>Anaheim Ducks</td>\n",
       "      <td>DAL</td>\n",
       "      <td>ANA</td>\n",
       "      <td>...</td>\n",
       "      <td>0.220656</td>\n",
       "      <td>1.445395</td>\n",
       "      <td>0.775261</td>\n",
       "      <td>NaN</td>\n",
       "      <td>NaN</td>\n",
       "      <td>NaN</td>\n",
       "      <td>NaN</td>\n",
       "      <td>12</td>\n",
       "      <td>12.0</td>\n",
       "      <td>12.0</td>\n",
       "    </tr>\n",
       "    <tr>\n",
       "      <th>64625</th>\n",
       "      <td>2022</td>\n",
       "      <td>2022-04-29</td>\n",
       "      <td>0</td>\n",
       "      <td>0</td>\n",
       "      <td>pre</td>\n",
       "      <td>NaN</td>\n",
       "      <td>Edmonton Oilers</td>\n",
       "      <td>Vancouver Canucks</td>\n",
       "      <td>EDM</td>\n",
       "      <td>VAN</td>\n",
       "      <td>...</td>\n",
       "      <td>0.231830</td>\n",
       "      <td>1.293524</td>\n",
       "      <td>0.938306</td>\n",
       "      <td>NaN</td>\n",
       "      <td>NaN</td>\n",
       "      <td>NaN</td>\n",
       "      <td>NaN</td>\n",
       "      <td>66</td>\n",
       "      <td>55.0</td>\n",
       "      <td>60.0</td>\n",
       "    </tr>\n",
       "    <tr>\n",
       "      <th>64626</th>\n",
       "      <td>2022</td>\n",
       "      <td>2022-04-29</td>\n",
       "      <td>0</td>\n",
       "      <td>0</td>\n",
       "      <td>pre</td>\n",
       "      <td>NaN</td>\n",
       "      <td>Seattle Kraken</td>\n",
       "      <td>San Jose Sharks</td>\n",
       "      <td>SEA</td>\n",
       "      <td>SJS</td>\n",
       "      <td>...</td>\n",
       "      <td>0.236408</td>\n",
       "      <td>1.229334</td>\n",
       "      <td>1.007074</td>\n",
       "      <td>NaN</td>\n",
       "      <td>NaN</td>\n",
       "      <td>NaN</td>\n",
       "      <td>NaN</td>\n",
       "      <td>0</td>\n",
       "      <td>0.0</td>\n",
       "      <td>0.0</td>\n",
       "    </tr>\n",
       "    <tr>\n",
       "      <th>64627</th>\n",
       "      <td>2022</td>\n",
       "      <td>2022-04-29</td>\n",
       "      <td>0</td>\n",
       "      <td>0</td>\n",
       "      <td>pre</td>\n",
       "      <td>NaN</td>\n",
       "      <td>Arizona Coyotes</td>\n",
       "      <td>Nashville Predators</td>\n",
       "      <td>ARI</td>\n",
       "      <td>NSH</td>\n",
       "      <td>...</td>\n",
       "      <td>0.231864</td>\n",
       "      <td>0.938818</td>\n",
       "      <td>1.293046</td>\n",
       "      <td>NaN</td>\n",
       "      <td>NaN</td>\n",
       "      <td>NaN</td>\n",
       "      <td>NaN</td>\n",
       "      <td>11</td>\n",
       "      <td>5.0</td>\n",
       "      <td>8.0</td>\n",
       "    </tr>\n",
       "  </tbody>\n",
       "</table>\n",
       "<p>64628 rows × 24 columns</p>\n",
       "</div>"
      ],
      "text/plain": [
       "       season        date  playoff  neutral status   ot            home_team  \\\n",
       "0        1918  1917-12-18        0        0   post  NaN   Montreal Wanderers   \n",
       "1        1918  1917-12-18        0        0   post  NaN      Ottawa Senators   \n",
       "2        1918  1917-12-20        0        0   post  NaN   Montreal Wanderers   \n",
       "3        1918  1917-12-20        0        0   post  NaN  Toronto Maple Leafs   \n",
       "4        1918  1917-12-25        0        0   post  NaN  Toronto Maple Leafs   \n",
       "...       ...         ...      ...      ...    ...  ...                  ...   \n",
       "64623    2022  2022-04-29        0        0    pre  NaN      St. Louis Blues   \n",
       "64624    2022  2022-04-29        0        0    pre  NaN         Dallas Stars   \n",
       "64625    2022  2022-04-29        0        0    pre  NaN      Edmonton Oilers   \n",
       "64626    2022  2022-04-29        0        0    pre  NaN       Seattle Kraken   \n",
       "64627    2022  2022-04-29        0        0    pre  NaN      Arizona Coyotes   \n",
       "\n",
       "                  away_team home_team_abbr away_team_abbr  ...  overtime_prob  \\\n",
       "0       Toronto Maple Leafs            MTW            TOR  ...       0.234852   \n",
       "1        Montreal Canadiens            OTS            MTL  ...       0.234852   \n",
       "2        Montreal Canadiens            MTW            MTL  ...       0.235451   \n",
       "3           Ottawa Senators            TOR            OTS  ...       0.234254   \n",
       "4        Montreal Canadiens            TOR            MTL  ...       0.236643   \n",
       "...                     ...            ...            ...  ...            ...   \n",
       "64623  Vegas Golden Knights            STL            VEG  ...       0.233013   \n",
       "64624         Anaheim Ducks            DAL            ANA  ...       0.220656   \n",
       "64625     Vancouver Canucks            EDM            VAN  ...       0.231830   \n",
       "64626       San Jose Sharks            SEA            SJS  ...       0.236408   \n",
       "64627   Nashville Predators            ARI            NSH  ...       0.231864   \n",
       "\n",
       "       home_team_expected_points  away_team_expected_points  home_team_score  \\\n",
       "0                       1.243569                   0.991283             10.0   \n",
       "1                       1.243569                   0.991283              4.0   \n",
       "2                       1.235382                   1.000069              2.0   \n",
       "3                       1.251739                   0.982515             11.0   \n",
       "4                       1.219075                   1.017568              7.0   \n",
       "...                          ...                        ...              ...   \n",
       "64623                   1.276983                   0.956031              NaN   \n",
       "64624                   1.445395                   0.775261              NaN   \n",
       "64625                   1.293524                   0.938306              NaN   \n",
       "64626                   1.229334                   1.007074              NaN   \n",
       "64627                   0.938818                   1.293046              NaN   \n",
       "\n",
       "       away_team_score  home_team_postgame_rating  away_team_postgame_rating  \\\n",
       "0                  9.0                1382.020049                1377.979951   \n",
       "1                  7.0                1374.590020                1385.409980   \n",
       "2                 11.0                1374.108886                1393.321143   \n",
       "3                  4.0                1383.198318                1369.371652   \n",
       "4                  5.0                1386.503950                1390.015512   \n",
       "...                ...                        ...                        ...   \n",
       "64623              NaN                        NaN                        NaN   \n",
       "64624              NaN                        NaN                        NaN   \n",
       "64625              NaN                        NaN                        NaN   \n",
       "64626              NaN                        NaN                        NaN   \n",
       "64627              NaN                        NaN                        NaN   \n",
       "\n",
       "       game_quality_rating  game_importance_rating  game_overall_rating  \n",
       "0                        0                     NaN                  NaN  \n",
       "1                        0                     NaN                  NaN  \n",
       "2                        0                     NaN                  NaN  \n",
       "3                        0                     NaN                  NaN  \n",
       "4                        0                     NaN                  NaN  \n",
       "...                    ...                     ...                  ...  \n",
       "64623                   92                    91.0                 91.0  \n",
       "64624                   12                    12.0                 12.0  \n",
       "64625                   66                    55.0                 60.0  \n",
       "64626                    0                     0.0                  0.0  \n",
       "64627                   11                     5.0                  8.0  \n",
       "\n",
       "[64628 rows x 24 columns]"
      ]
     },
     "execution_count": 106,
     "metadata": {},
     "output_type": "execute_result"
    }
   ],
   "source": [
    "nhl_data=pd.read_csv(\"nhl.csv\")\n",
    "nhl_data[\"season\"].unique()\n",
    "nhl_data"
   ]
  },
  {
   "cell_type": "code",
   "execution_count": 107,
   "id": "787e8e7f",
   "metadata": {},
   "outputs": [
    {
     "data": {
      "text/plain": [
       "<AxesSubplot:xlabel='season'>"
      ]
     },
     "execution_count": 107,
     "metadata": {},
     "output_type": "execute_result"
    },
    {
     "data": {
      "image/png": "[encoded data removed]",
      "text/plain": [
       "<Figure size 720x720 with 1 Axes>"
      ]
     },
     "metadata": {
      "needs_background": "light"
     },
     "output_type": "display_data"
    }
   ],
   "source": [
    "#Group the Data on the basis of season\n",
    "group_by_year=nhl_data.groupby(\"season\")\n",
    "group_by_year[[\"home_team_score\",\"away_team_score\"]].sum().plot(figsize=(10,10))\n",
    "#Home team score and away team team score from 1920-2020"
   ]
  },
  {
   "cell_type": "code",
   "execution_count": 108,
   "id": "9f040dfd",
   "metadata": {},
   "outputs": [
    {
     "name": "stderr",
     "output_type": "stream",
     "text": [
      "/tmp/ipykernel_34664/2950725637.py:7: FutureWarning: Indexing with multiple keys (implicitly converted to a tuple of keys) will be deprecated, use a list instead.\n",
      "  again_group[\"home_team_score\",\"away_team_score\",\"home_team_expected_points\",\"away_team_expected_points\"].sum().plot.bar(figsize=(20,15),title=\"year base bar char\")\n"
     ]
    },
    {
     "data": {
      "text/plain": [
       "<AxesSubplot:title={'center':'year base bar char'}, xlabel='season'>"
      ]
     },
     "execution_count": 108,
     "metadata": {},
     "output_type": "execute_result"
    },
    {
     "data": {
      "image/png": "[encoded data removed]",
      "text/plain": [
       "<Figure size 1440x1080 with 1 Axes>"
      ]
     },
     "metadata": {
      "needs_background": "light"
     },
     "output_type": "display_data"
    }
   ],
   "source": [
    "#get the data of 2020,2021,2022 from grouped data\n",
    "data_2020=group_by_year.get_group(2020)\n",
    "data_2021=group_by_year.get_group(2021)\n",
    "data_2022=group_by_year.get_group(2022)\n",
    "final_data=pd.concat([data_2020,data_2021,data_2022])\n",
    "again_group=final_data.groupby(\"season\")\n",
    "again_group[\"home_team_score\",\"away_team_score\",\"home_team_expected_points\",\"away_team_expected_points\"].sum().plot.bar(figsize=(20,15),title=\"year base bar char\")"
   ]
  },
  {
   "cell_type": "code",
   "execution_count": 109,
   "id": "352304a0",
   "metadata": {},
   "outputs": [
    {
     "name": "stderr",
     "output_type": "stream",
     "text": [
      "/tmp/ipykernel_34664/1480828290.py:1: SettingWithCopyWarning: \n",
      "A value is trying to be set on a copy of a slice from a DataFrame.\n",
      "Try using .loc[row_indexer,col_indexer] = value instead\n",
      "\n",
      "See the caveats in the documentation: https://pandas.pydata.org/pandas-docs/stable/user_guide/indexing.html#returning-a-view-versus-a-copy\n",
      "  data_2020[\"date\"]=pd.to_datetime(data_2020[\"date\"])\n"
     ]
    }
   ],
   "source": [
    "data_2020[\"date\"]=pd.to_datetime(data_2020[\"date\"])"
   ]
  },
  {
   "cell_type": "code",
   "execution_count": 110,
   "id": "367aaf60",
   "metadata": {},
   "outputs": [
    {
     "name": "stderr",
     "output_type": "stream",
     "text": [
      "/tmp/ipykernel_34664/3905672090.py:1: SettingWithCopyWarning: \n",
      "A value is trying to be set on a copy of a slice from a DataFrame.\n",
      "Try using .loc[row_indexer,col_indexer] = value instead\n",
      "\n",
      "See the caveats in the documentation: https://pandas.pydata.org/pandas-docs/stable/user_guide/indexing.html#returning-a-view-versus-a-copy\n",
      "  data_2020['month']=data_2020[\"date\"].dt.month\n"
     ]
    }
   ],
   "source": [
    "data_2020['month']=data_2020[\"date\"].dt.month"
   ]
  },
  {
   "cell_type": "code",
   "execution_count": 111,
   "id": "ec696d18",
   "metadata": {},
   "outputs": [],
   "source": [
    "# data_2020[data_2020[\"month\"]==10].plot.bar(figsize=(20,15))\n",
    "# data_2020[[\"home_team_score\",\"away_team_score\"]].plot()\n",
    "# data_2020[[\"month\"==10,\"home_team_score\",\"away_team_score\"]].plot()"
   ]
  },
  {
   "cell_type": "code",
   "execution_count": 112,
   "id": "23e9fb32",
   "metadata": {},
   "outputs": [
    {
     "data": {
      "text/plain": [
       "104"
      ]
     },
     "execution_count": 112,
     "metadata": {},
     "output_type": "execute_result"
    }
   ],
   "source": [
    "len(group_by_year)"
   ]
  },
  {
   "cell_type": "code",
   "execution_count": 113,
   "id": "4fa35fc2",
   "metadata": {},
   "outputs": [
    {
     "name": "stderr",
     "output_type": "stream",
     "text": [
      "/tmp/ipykernel_34664/119401240.py:4: SettingWithCopyWarning: \n",
      "A value is trying to be set on a copy of a slice from a DataFrame.\n",
      "Try using .loc[row_indexer,col_indexer] = value instead\n",
      "\n",
      "See the caveats in the documentation: https://pandas.pydata.org/pandas-docs/stable/user_guide/indexing.html#returning-a-view-versus-a-copy\n",
      "  te[\"date\"]=pd.to_datetime(te[\"date\"])\n"
     ]
    },
    {
     "data": {
      "text/plain": [
       "61153    1\n",
       "61154    1\n",
       "61155    1\n",
       "61156    1\n",
       "61157    2\n",
       "        ..\n",
       "61351    3\n",
       "61352    3\n",
       "61353    3\n",
       "61354    3\n",
       "61355    3\n",
       "Name: date, Length: 203, dtype: int64"
      ]
     },
     "execution_count": 113,
     "metadata": {},
     "output_type": "execute_result"
    }
   ],
   "source": [
    "#extract only month 10 data\n",
    "te=data_2020[data_2020[\"month\"]==10]\n",
    "len(te)\n",
    "te[\"date\"]=pd.to_datetime(te[\"date\"])\n",
    "#Type cast the Datatime data\n",
    "te.set_index(\"date\")\n",
    "te[\"date\"].dt.weekday\n",
    "# te[[\"home_team_score\",\"away_team_score\"]].plot.bar(figsize=(20,15))"
   ]
  },
  {
   "cell_type": "code",
   "execution_count": 114,
   "id": "5b29b5ff",
   "metadata": {},
   "outputs": [],
   "source": [
    "test=te[te[\"date\"].dt.weekday>3]\n",
    "# test[[\"home_team_score\",\"away_team_score\"]].plot.bar(figsize=(20,15))\n",
    "\n",
    "#Again group the data on the basis of away_tea_abbr\n",
    "group_data_abbr=test.groupby(\"away_team_abbr\")\n",
    "\n",
    "sum_by_abbr=group_data_abbr.sum()"
   ]
  },
  {
   "cell_type": "code",
   "execution_count": 115,
   "id": "78906d32",
   "metadata": {},
   "outputs": [
    {
     "name": "stderr",
     "output_type": "stream",
     "text": [
      "/tmp/ipykernel_34664/2229919430.py:1: FutureWarning: Indexing with multiple keys (implicitly converted to a tuple of keys) will be deprecated, use a list instead.\n",
      "  group_data_abbr[\"home_team_score\",\"away_team_score\"].sum().plot.bar(figsize=(20,15))\n"
     ]
    },
    {
     "data": {
      "text/plain": [
       "<AxesSubplot:xlabel='away_team_abbr'>"
      ]
     },
     "execution_count": 115,
     "metadata": {},
     "output_type": "execute_result"
    },
    {
     "data": {
      "image/png": "[encoded data removed]",
      "text/plain": [
       "<Figure size 1440x1080 with 1 Axes>"
      ]
     },
     "metadata": {
      "needs_background": "light"
     },
     "output_type": "display_data"
    }
   ],
   "source": [
    "group_data_abbr[\"home_team_score\",\"away_team_score\"].sum().plot.bar(figsize=(20,15))"
   ]
  },
  {
   "cell_type": "code",
   "execution_count": 116,
   "id": "725d0076",
   "metadata": {},
   "outputs": [],
   "source": [
    "#Save the data to excel file\n",
    "\n",
    "with pd.ExcelWriter(\"nhl.xlsx\") as f:\n",
    "    test.to_excel(f,sheet_name=\"abbr data\")\n",
    "    sum_by_abbr.to_excel(f,sheet_name=\"sum data\")\n",
    "    "
   ]
  },
  {
   "cell_type": "code",
   "execution_count": 117,
   "id": "30866087",
   "metadata": {},
   "outputs": [],
   "source": [
    "# for name,group in group_by_year:\n",
    "#     print(name)\n",
    "#     print(group)"
   ]
  },
  {
   "cell_type": "code",
   "execution_count": 118,
   "id": "24c111a6",
   "metadata": {},
   "outputs": [],
   "source": [
    "# sum_by_abbr=sum_by_abbr.cumsum()\n",
    "# plt.figure()\n",
    "\n",
    "# sum_by_abbr.plot(figsize=(20,15))\n",
    "# plt.legend(loc=\"best\")"
   ]
  },
  {
   "cell_type": "code",
   "execution_count": 119,
   "id": "9b3fe463",
   "metadata": {},
   "outputs": [
    {
     "data": {
      "text/plain": [
       "<AxesSubplot:title={'center':'sum of home team rating'}>"
      ]
     },
     "execution_count": 119,
     "metadata": {},
     "output_type": "execute_result"
    },
    {
     "data": {
      "image/png": "[encoded data removed]",
      "text/plain": [
       "<Figure size 504x504 with 1 Axes>"
      ]
     },
     "metadata": {
      "needs_background": "light"
     },
     "output_type": "display_data"
    }
   ],
   "source": [
    "#sum the data by each colums on basis of year and make a new columns called sum_home_team\n",
    "nhl_data[\"sum_home_team_pregame_rating\"]=group_by_year.agg(np.sum)[\"home_team_pregame_rating\"]\n",
    "nhl_data[\"sum_home_team_pregame_rating\"].plot(figsize=(7,7\n",
    "                                                      ),style=[\"r\",\"z\"],\n",
    "                                             title=\"sum of home team rating\")"
   ]
  },
  {
   "cell_type": "code",
   "execution_count": 120,
   "id": "88bfdc6b",
   "metadata": {},
   "outputs": [
    {
     "data": {
      "text/plain": [
       "array([  38,   32,   48,   50,   92,  130,  232,  233,  231,  236,  205,\n",
       "        229,  206,  209,  208,  188,  187,  189,  165,  164,  170,  196,\n",
       "        195,  227,  225,  228,  226,  224,  230,  484,  489,  490,  589,\n",
       "        582,  662,  771,  768,  764,  765,  725,  907,  908,  911,  906,\n",
       "        910,  912,  927,  924,  922,  925,  932,  966, 1093, 1182,  705,\n",
       "       1152, 1148, 1193, 1231, 1316, 1320, 1319, 1313, 1311, 1315, 1317,\n",
       "        806, 1323, 1321, 1355, 1358, 1212,  952])"
      ]
     },
     "execution_count": 120,
     "metadata": {},
     "output_type": "execute_result"
    }
   ],
   "source": [
    "group_by_year.size().unique()\n",
    "# group_by_year.describe()\n",
    "# group_by_year.std()"
   ]
  },
  {
   "cell_type": "code",
   "execution_count": 121,
   "id": "0a1cd0f7",
   "metadata": {},
   "outputs": [
    {
     "data": {
      "text/html": [
       "<div>\n",
       "<style scoped>\n",
       "    .dataframe tbody tr th:only-of-type {\n",
       "        vertical-align: middle;\n",
       "    }\n",
       "\n",
       "    .dataframe tbody tr th {\n",
       "        vertical-align: top;\n",
       "    }\n",
       "\n",
       "    .dataframe thead th {\n",
       "        text-align: right;\n",
       "    }\n",
       "</style>\n",
       "<table border=\"1\" class=\"dataframe\">\n",
       "  <thead>\n",
       "    <tr style=\"text-align: right;\">\n",
       "      <th></th>\n",
       "      <th>sum</th>\n",
       "      <th>std</th>\n",
       "      <th>mean</th>\n",
       "      <th>amax</th>\n",
       "    </tr>\n",
       "    <tr>\n",
       "      <th>season</th>\n",
       "      <th></th>\n",
       "      <th></th>\n",
       "      <th></th>\n",
       "      <th></th>\n",
       "    </tr>\n",
       "  </thead>\n",
       "  <tbody>\n",
       "    <tr>\n",
       "      <th>1918</th>\n",
       "      <td>8.915782</td>\n",
       "      <td>0.003754</td>\n",
       "      <td>0.234626</td>\n",
       "      <td>0.242724</td>\n",
       "    </tr>\n",
       "    <tr>\n",
       "      <th>1919</th>\n",
       "      <td>7.509617</td>\n",
       "      <td>0.003356</td>\n",
       "      <td>0.234676</td>\n",
       "      <td>0.240742</td>\n",
       "    </tr>\n",
       "    <tr>\n",
       "      <th>1920</th>\n",
       "      <td>11.071079</td>\n",
       "      <td>0.009446</td>\n",
       "      <td>0.230647</td>\n",
       "      <td>0.243576</td>\n",
       "    </tr>\n",
       "    <tr>\n",
       "      <th>1921</th>\n",
       "      <td>11.536757</td>\n",
       "      <td>0.009205</td>\n",
       "      <td>0.230735</td>\n",
       "      <td>0.243590</td>\n",
       "    </tr>\n",
       "    <tr>\n",
       "      <th>1922</th>\n",
       "      <td>11.581412</td>\n",
       "      <td>0.008805</td>\n",
       "      <td>0.231628</td>\n",
       "      <td>0.243256</td>\n",
       "    </tr>\n",
       "    <tr>\n",
       "      <th>...</th>\n",
       "      <td>...</td>\n",
       "      <td>...</td>\n",
       "      <td>...</td>\n",
       "      <td>...</td>\n",
       "    </tr>\n",
       "    <tr>\n",
       "      <th>2018</th>\n",
       "      <td>315.289365</td>\n",
       "      <td>0.007405</td>\n",
       "      <td>0.232686</td>\n",
       "      <td>0.243789</td>\n",
       "    </tr>\n",
       "    <tr>\n",
       "      <th>2019</th>\n",
       "      <td>316.002080</td>\n",
       "      <td>0.007368</td>\n",
       "      <td>0.232697</td>\n",
       "      <td>0.243788</td>\n",
       "    </tr>\n",
       "    <tr>\n",
       "      <th>2020</th>\n",
       "      <td>282.782795</td>\n",
       "      <td>0.007379</td>\n",
       "      <td>0.233319</td>\n",
       "      <td>0.243789</td>\n",
       "    </tr>\n",
       "    <tr>\n",
       "      <th>2021</th>\n",
       "      <td>222.624792</td>\n",
       "      <td>0.007321</td>\n",
       "      <td>0.233850</td>\n",
       "      <td>0.243772</td>\n",
       "    </tr>\n",
       "    <tr>\n",
       "      <th>2022</th>\n",
       "      <td>303.699671</td>\n",
       "      <td>0.008802</td>\n",
       "      <td>0.231655</td>\n",
       "      <td>0.244079</td>\n",
       "    </tr>\n",
       "  </tbody>\n",
       "</table>\n",
       "<p>104 rows × 4 columns</p>\n",
       "</div>"
      ],
      "text/plain": [
       "               sum       std      mean      amax\n",
       "season                                          \n",
       "1918      8.915782  0.003754  0.234626  0.242724\n",
       "1919      7.509617  0.003356  0.234676  0.240742\n",
       "1920     11.071079  0.009446  0.230647  0.243576\n",
       "1921     11.536757  0.009205  0.230735  0.243590\n",
       "1922     11.581412  0.008805  0.231628  0.243256\n",
       "...            ...       ...       ...       ...\n",
       "2018    315.289365  0.007405  0.232686  0.243789\n",
       "2019    316.002080  0.007368  0.232697  0.243788\n",
       "2020    282.782795  0.007379  0.233319  0.243789\n",
       "2021    222.624792  0.007321  0.233850  0.243772\n",
       "2022    303.699671  0.008802  0.231655  0.244079\n",
       "\n",
       "[104 rows x 4 columns]"
      ]
     },
     "execution_count": 121,
     "metadata": {},
     "output_type": "execute_result"
    }
   ],
   "source": [
    "#applying all function to column name overtime_prob\n",
    "group_by_year[\"overtime_prob\"].agg([np.sum,np.std,np.mean,np.max])"
   ]
  },
  {
   "cell_type": "code",
   "execution_count": 122,
   "id": "9b6da515",
   "metadata": {},
   "outputs": [
    {
     "data": {
      "text/plain": [
       "<AxesSubplot:title={'center':'Max minus Min'}, xlabel='season'>"
      ]
     },
     "execution_count": 122,
     "metadata": {},
     "output_type": "execute_result"
    },
    {
     "data": {
      "image/png": "[encoded data removed]",
      "text/plain": [
       "<Figure size 432x288 with 1 Axes>"
      ]
     },
     "metadata": {
      "needs_background": "light"
     },
     "output_type": "display_data"
    }
   ],
   "source": [
    "#Lamda\n",
    "group_by_year[\"overtime_prob\"].agg([lambda x:x.max()-x.min(),lambda x:x.mean()-x.median()]).plot(xlabel=\"season\",title=\"Max minus Min\")"
   ]
  },
  {
   "cell_type": "code",
   "execution_count": 124,
   "id": "e8bfd5b3",
   "metadata": {},
   "outputs": [
    {
     "data": {
      "text/html": [
       "<div>\n",
       "<style scoped>\n",
       "    .dataframe tbody tr th:only-of-type {\n",
       "        vertical-align: middle;\n",
       "    }\n",
       "\n",
       "    .dataframe tbody tr th {\n",
       "        vertical-align: top;\n",
       "    }\n",
       "\n",
       "    .dataframe thead th {\n",
       "        text-align: right;\n",
       "    }\n",
       "</style>\n",
       "<table border=\"1\" class=\"dataframe\">\n",
       "  <thead>\n",
       "    <tr style=\"text-align: right;\">\n",
       "      <th></th>\n",
       "      <th>minimum</th>\n",
       "      <th>maximum</th>\n",
       "      <th>average</th>\n",
       "    </tr>\n",
       "    <tr>\n",
       "      <th>season</th>\n",
       "      <th></th>\n",
       "      <th></th>\n",
       "      <th></th>\n",
       "    </tr>\n",
       "  </thead>\n",
       "  <tbody>\n",
       "    <tr>\n",
       "      <th>1918</th>\n",
       "      <td>0.228038</td>\n",
       "      <td>0.242724</td>\n",
       "      <td>0.234626</td>\n",
       "    </tr>\n",
       "    <tr>\n",
       "      <th>1919</th>\n",
       "      <td>0.228903</td>\n",
       "      <td>0.240742</td>\n",
       "      <td>0.234676</td>\n",
       "    </tr>\n",
       "    <tr>\n",
       "      <th>1920</th>\n",
       "      <td>0.206602</td>\n",
       "      <td>0.243576</td>\n",
       "      <td>0.230647</td>\n",
       "    </tr>\n",
       "    <tr>\n",
       "      <th>1921</th>\n",
       "      <td>0.210531</td>\n",
       "      <td>0.243590</td>\n",
       "      <td>0.230735</td>\n",
       "    </tr>\n",
       "    <tr>\n",
       "      <th>1922</th>\n",
       "      <td>0.212598</td>\n",
       "      <td>0.243256</td>\n",
       "      <td>0.231628</td>\n",
       "    </tr>\n",
       "    <tr>\n",
       "      <th>...</th>\n",
       "      <td>...</td>\n",
       "      <td>...</td>\n",
       "      <td>...</td>\n",
       "    </tr>\n",
       "    <tr>\n",
       "      <th>2018</th>\n",
       "      <td>0.206264</td>\n",
       "      <td>0.243789</td>\n",
       "      <td>0.232686</td>\n",
       "    </tr>\n",
       "    <tr>\n",
       "      <th>2019</th>\n",
       "      <td>0.203552</td>\n",
       "      <td>0.243788</td>\n",
       "      <td>0.232697</td>\n",
       "    </tr>\n",
       "    <tr>\n",
       "      <th>2020</th>\n",
       "      <td>0.201716</td>\n",
       "      <td>0.243789</td>\n",
       "      <td>0.233319</td>\n",
       "    </tr>\n",
       "    <tr>\n",
       "      <th>2021</th>\n",
       "      <td>0.207077</td>\n",
       "      <td>0.243772</td>\n",
       "      <td>0.233850</td>\n",
       "    </tr>\n",
       "    <tr>\n",
       "      <th>2022</th>\n",
       "      <td>0.204587</td>\n",
       "      <td>0.244079</td>\n",
       "      <td>0.231655</td>\n",
       "    </tr>\n",
       "  </tbody>\n",
       "</table>\n",
       "<p>104 rows × 3 columns</p>\n",
       "</div>"
      ],
      "text/plain": [
       "         minimum   maximum   average\n",
       "season                              \n",
       "1918    0.228038  0.242724  0.234626\n",
       "1919    0.228903  0.240742  0.234676\n",
       "1920    0.206602  0.243576  0.230647\n",
       "1921    0.210531  0.243590  0.230735\n",
       "1922    0.212598  0.243256  0.231628\n",
       "...          ...       ...       ...\n",
       "2018    0.206264  0.243789  0.232686\n",
       "2019    0.203552  0.243788  0.232697\n",
       "2020    0.201716  0.243789  0.233319\n",
       "2021    0.207077  0.243772  0.233850\n",
       "2022    0.204587  0.244079  0.231655\n",
       "\n",
       "[104 rows x 3 columns]"
      ]
     },
     "execution_count": 124,
     "metadata": {},
     "output_type": "execute_result"
    }
   ],
   "source": [
    "group_by_year.agg(\n",
    "                            minimum=pd.NamedAgg(column=\"overtime_prob\",aggfunc=\"min\"),\n",
    "                            maximum=pd.NamedAgg(column=\"overtime_prob\",aggfunc=\"max\"),\n",
    "                            average=pd.NamedAgg(column=\"overtime_prob\",aggfunc=np.mean),\n",
    "                            \n",
    "                )"
   ]
  },
  {
   "cell_type": "code",
   "execution_count": null,
   "id": "1dc9f652",
   "metadata": {},
   "outputs": [],
   "source": []
  }
 ],
 "metadata": {
  "kernelspec": {
   "display_name": "Python 3 (ipykernel)",
   "language": "python",
   "name": "python3"
  },
  "language_info": {
   "codemirror_mode": {
    "name": "ipython",
    "version": 3
   },
   "file_extension": ".py",
   "mimetype": "text/x-python",
   "name": "python",
   "nbconvert_exporter": "python",
   "pygments_lexer": "ipython3",
   "version": "3.8.10"
  }
 },
 "nbformat": 4,
 "nbformat_minor": 5
}
