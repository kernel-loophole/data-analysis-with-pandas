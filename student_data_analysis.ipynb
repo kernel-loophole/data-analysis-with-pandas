{
 "cells": [
  {
   "cell_type": "code",
   "execution_count": null,
   "id": "b657abab",
   "metadata": {},
   "outputs": [],
   "source": [
    "from matplotlib.pyplot import axes\n",
    "import pandas as pd\n",
    "import numpy as np\n",
    "import matplotlib.pyplot as plt\n"
   ]
  },
  {
   "cell_type": "code",
   "execution_count": 132,
   "id": "38ebd54c",
   "metadata": {},
   "outputs": [
    {
     "data": {
      "text/html": [
       "<div>\n",
       "<style scoped>\n",
       "    .dataframe tbody tr th:only-of-type {\n",
       "        vertical-align: middle;\n",
       "    }\n",
       "\n",
       "    .dataframe tbody tr th {\n",
       "        vertical-align: top;\n",
       "    }\n",
       "\n",
       "    .dataframe thead th {\n",
       "        text-align: right;\n",
       "    }\n",
       "</style>\n",
       "<table border=\"1\" class=\"dataframe\">\n",
       "  <thead>\n",
       "    <tr style=\"text-align: right;\">\n",
       "      <th></th>\n",
       "      <th>last name</th>\n",
       "      <th>First name</th>\n",
       "      <th>SSN</th>\n",
       "      <th>\"Test1</th>\n",
       "      <th>Test2</th>\n",
       "      <th>Test3</th>\n",
       "      <th>Test4</th>\n",
       "      <th>Final</th>\n",
       "      <th>Grade</th>\n",
       "    </tr>\n",
       "  </thead>\n",
       "  <tbody>\n",
       "    <tr>\n",
       "      <th>0</th>\n",
       "      <td>Alfalfa</td>\n",
       "      <td>\"Aloysius\"</td>\n",
       "      <td>\"123-45-6789\"</td>\n",
       "      <td>40.0</td>\n",
       "      <td>90.0</td>\n",
       "      <td>100.0</td>\n",
       "      <td>83.0</td>\n",
       "      <td>49.0</td>\n",
       "      <td>\"D-\"</td>\n",
       "    </tr>\n",
       "    <tr>\n",
       "      <th>1</th>\n",
       "      <td>Alfred</td>\n",
       "      <td>\"University\"</td>\n",
       "      <td>\"123-12-1234\"</td>\n",
       "      <td>41.0</td>\n",
       "      <td>97.0</td>\n",
       "      <td>96.0</td>\n",
       "      <td>97.0</td>\n",
       "      <td>48.0</td>\n",
       "      <td>\"D+\"</td>\n",
       "    </tr>\n",
       "    <tr>\n",
       "      <th>2</th>\n",
       "      <td>Gerty</td>\n",
       "      <td>\"Gramma\"</td>\n",
       "      <td>\"567-89-0123\"</td>\n",
       "      <td>41.0</td>\n",
       "      <td>80.0</td>\n",
       "      <td>60.0</td>\n",
       "      <td>40.0</td>\n",
       "      <td>44.0</td>\n",
       "      <td>\"C\"</td>\n",
       "    </tr>\n",
       "    <tr>\n",
       "      <th>3</th>\n",
       "      <td>Android</td>\n",
       "      <td>\"Electric\"</td>\n",
       "      <td>\"087-65-4321\"</td>\n",
       "      <td>42.0</td>\n",
       "      <td>23.0</td>\n",
       "      <td>36.0</td>\n",
       "      <td>45.0</td>\n",
       "      <td>47.0</td>\n",
       "      <td>\"B-\"</td>\n",
       "    </tr>\n",
       "    <tr>\n",
       "      <th>4</th>\n",
       "      <td>Bumpkin</td>\n",
       "      <td>\"Fred\"</td>\n",
       "      <td>\"456-78-9012\"</td>\n",
       "      <td>43.0</td>\n",
       "      <td>78.0</td>\n",
       "      <td>88.0</td>\n",
       "      <td>77.0</td>\n",
       "      <td>45.0</td>\n",
       "      <td>\"A-\"</td>\n",
       "    </tr>\n",
       "  </tbody>\n",
       "</table>\n",
       "</div>"
      ],
      "text/plain": [
       "  last name        First name                   SSN       \"Test1  Test2  \\\n",
       "0   Alfalfa        \"Aloysius\"         \"123-45-6789\"         40.0   90.0   \n",
       "1    Alfred      \"University\"         \"123-12-1234\"         41.0   97.0   \n",
       "2     Gerty          \"Gramma\"         \"567-89-0123\"         41.0   80.0   \n",
       "3   Android        \"Electric\"         \"087-65-4321\"         42.0   23.0   \n",
       "4   Bumpkin            \"Fred\"         \"456-78-9012\"         43.0   78.0   \n",
       "\n",
       "   Test3  Test4     Final    Grade  \n",
       "0  100.0   83.0      49.0     \"D-\"  \n",
       "1   96.0   97.0      48.0     \"D+\"  \n",
       "2   60.0   40.0      44.0      \"C\"  \n",
       "3   36.0   45.0      47.0     \"B-\"  \n",
       "4   88.0   77.0      45.0     \"A-\"  "
      ]
     },
     "execution_count": 132,
     "metadata": {},
     "output_type": "execute_result"
    }
   ],
   "source": [
    "student_data=pd.read_csv(\"grades.csv\")\n",
    "\n",
    "student_data.columns=[col[2:-1] for col in student_data.columns]\n",
    "\n",
    "student_data=student_data.rename(columns={\"st nam\":\"last name\"})\n",
    "# check_list=list()\n",
    "# for i in student_data[\"Final\"]:\n",
    "   \n",
    "#     if i=='   \"A\"':\n",
    "#         print(i)\n",
    "#     else:\n",
    "#         check_list.append(i)\n",
    "       \n",
    "# check_list\n",
    "student_data.head(5)"
   ]
  },
  {
   "cell_type": "code",
   "execution_count": 133,
   "id": "c1c46c5a",
   "metadata": {},
   "outputs": [
    {
     "data": {
      "text/html": [
       "<div>\n",
       "<style scoped>\n",
       "    .dataframe tbody tr th:only-of-type {\n",
       "        vertical-align: middle;\n",
       "    }\n",
       "\n",
       "    .dataframe tbody tr th {\n",
       "        vertical-align: top;\n",
       "    }\n",
       "\n",
       "    .dataframe thead th {\n",
       "        text-align: right;\n",
       "    }\n",
       "</style>\n",
       "<table border=\"1\" class=\"dataframe\">\n",
       "  <thead>\n",
       "    <tr style=\"text-align: right;\">\n",
       "      <th></th>\n",
       "      <th>last name</th>\n",
       "      <th>First name</th>\n",
       "      <th>SSN</th>\n",
       "      <th>\"Test1</th>\n",
       "      <th>Test2</th>\n",
       "      <th>Test3</th>\n",
       "      <th>Test4</th>\n",
       "      <th>Final</th>\n",
       "      <th>Grade</th>\n",
       "    </tr>\n",
       "  </thead>\n",
       "  <tbody>\n",
       "    <tr>\n",
       "      <th>0</th>\n",
       "      <td>Alfalfa</td>\n",
       "      <td>\"aloysius\"</td>\n",
       "      <td>\"123-45-6789\"</td>\n",
       "      <td>40.0</td>\n",
       "      <td>90.0</td>\n",
       "      <td>100.0</td>\n",
       "      <td>83.0</td>\n",
       "      <td>49.0</td>\n",
       "      <td>\"D-\"</td>\n",
       "    </tr>\n",
       "    <tr>\n",
       "      <th>1</th>\n",
       "      <td>Alfred</td>\n",
       "      <td>\"university\"</td>\n",
       "      <td>\"123-12-1234\"</td>\n",
       "      <td>41.0</td>\n",
       "      <td>97.0</td>\n",
       "      <td>96.0</td>\n",
       "      <td>97.0</td>\n",
       "      <td>48.0</td>\n",
       "      <td>\"D+\"</td>\n",
       "    </tr>\n",
       "    <tr>\n",
       "      <th>2</th>\n",
       "      <td>Gerty</td>\n",
       "      <td>\"gramma\"</td>\n",
       "      <td>\"567-89-0123\"</td>\n",
       "      <td>41.0</td>\n",
       "      <td>80.0</td>\n",
       "      <td>60.0</td>\n",
       "      <td>40.0</td>\n",
       "      <td>44.0</td>\n",
       "      <td>\"C\"</td>\n",
       "    </tr>\n",
       "    <tr>\n",
       "      <th>3</th>\n",
       "      <td>Android</td>\n",
       "      <td>\"electric\"</td>\n",
       "      <td>\"087-65-4321\"</td>\n",
       "      <td>42.0</td>\n",
       "      <td>23.0</td>\n",
       "      <td>36.0</td>\n",
       "      <td>45.0</td>\n",
       "      <td>47.0</td>\n",
       "      <td>\"B-\"</td>\n",
       "    </tr>\n",
       "    <tr>\n",
       "      <th>4</th>\n",
       "      <td>Bumpkin</td>\n",
       "      <td>\"fred\"</td>\n",
       "      <td>\"456-78-9012\"</td>\n",
       "      <td>43.0</td>\n",
       "      <td>78.0</td>\n",
       "      <td>88.0</td>\n",
       "      <td>77.0</td>\n",
       "      <td>45.0</td>\n",
       "      <td>\"A-\"</td>\n",
       "    </tr>\n",
       "  </tbody>\n",
       "</table>\n",
       "</div>"
      ],
      "text/plain": [
       "  last name        First name                   SSN       \"Test1  Test2  \\\n",
       "0   Alfalfa        \"aloysius\"         \"123-45-6789\"         40.0   90.0   \n",
       "1    Alfred      \"university\"         \"123-12-1234\"         41.0   97.0   \n",
       "2     Gerty          \"gramma\"         \"567-89-0123\"         41.0   80.0   \n",
       "3   Android        \"electric\"         \"087-65-4321\"         42.0   23.0   \n",
       "4   Bumpkin            \"fred\"         \"456-78-9012\"         43.0   78.0   \n",
       "\n",
       "   Test3  Test4     Final    Grade  \n",
       "0  100.0   83.0      49.0     \"D-\"  \n",
       "1   96.0   97.0      48.0     \"D+\"  \n",
       "2   60.0   40.0      44.0      \"C\"  \n",
       "3   36.0   45.0      47.0     \"B-\"  \n",
       "4   88.0   77.0      45.0     \"A-\"  "
      ]
     },
     "execution_count": 133,
     "metadata": {},
     "output_type": "execute_result"
    }
   ],
   "source": [
    "student_data[\"First name\"].str.lower()\n",
    "student_data[\"First name\"]=student_data[\"First name\"].str.lower()\n",
    "student_data.head()"
   ]
  },
  {
   "cell_type": "code",
   "execution_count": 134,
   "id": "c0b5f674",
   "metadata": {},
   "outputs": [
    {
     "data": {
      "text/plain": [
       "0     13\n",
       "1     16\n",
       "2     13\n",
       "3     13\n",
       "4      9\n",
       "5     11\n",
       "6     11\n",
       "7     11\n",
       "8     11\n",
       "9      9\n",
       "10     6\n",
       "11    10\n",
       "12     7\n",
       "13     9\n",
       "14     9\n",
       "15     9\n",
       "Name: First name, dtype: int64"
      ]
     },
     "execution_count": 134,
     "metadata": {},
     "output_type": "execute_result"
    }
   ],
   "source": [
    "student_data[\"First name\"].str.len()"
   ]
  },
  {
   "cell_type": "code",
   "execution_count": 135,
   "id": "fa0af89b",
   "metadata": {},
   "outputs": [
    {
     "data": {
      "text/plain": [
       "1"
      ]
     },
     "execution_count": 135,
     "metadata": {},
     "output_type": "execute_result"
    }
   ],
   "source": [
    "student_data[\"First name\"].str.len().idxmax()"
   ]
  },
  {
   "cell_type": "code",
   "execution_count": 136,
   "id": "6468e2b5",
   "metadata": {},
   "outputs": [
    {
     "data": {
      "text/plain": [
       "'    \"university\"'"
      ]
     },
     "execution_count": 136,
     "metadata": {},
     "output_type": "execute_result"
    }
   ],
   "source": [
    "student_data.loc[student_data[\"First name\"].str.len().idxmax(),\"First name\"]"
   ]
  },
  {
   "cell_type": "code",
   "execution_count": 137,
   "id": "21ded1a9",
   "metadata": {},
   "outputs": [
    {
     "data": {
      "text/html": [
       "<div>\n",
       "<style scoped>\n",
       "    .dataframe tbody tr th:only-of-type {\n",
       "        vertical-align: middle;\n",
       "    }\n",
       "\n",
       "    .dataframe tbody tr th {\n",
       "        vertical-align: top;\n",
       "    }\n",
       "\n",
       "    .dataframe thead th {\n",
       "        text-align: right;\n",
       "    }\n",
       "</style>\n",
       "<table border=\"1\" class=\"dataframe\">\n",
       "  <thead>\n",
       "    <tr style=\"text-align: right;\">\n",
       "      <th></th>\n",
       "      <th>last name</th>\n",
       "      <th>First name</th>\n",
       "      <th>SSN</th>\n",
       "      <th>\"Test1</th>\n",
       "      <th>Test2</th>\n",
       "      <th>Test3</th>\n",
       "      <th>Test4</th>\n",
       "      <th>Final</th>\n",
       "      <th>Grade</th>\n",
       "      <th>grade</th>\n",
       "    </tr>\n",
       "  </thead>\n",
       "  <tbody>\n",
       "    <tr>\n",
       "      <th>0</th>\n",
       "      <td>Alfalfa</td>\n",
       "      <td>\"aloysius\"</td>\n",
       "      <td>\"123-45-6789\"</td>\n",
       "      <td>40.0</td>\n",
       "      <td>90.0</td>\n",
       "      <td>100.0</td>\n",
       "      <td>83.0</td>\n",
       "      <td>49.0</td>\n",
       "      <td>\"D-\"</td>\n",
       "      <td>\"D-\"</td>\n",
       "    </tr>\n",
       "    <tr>\n",
       "      <th>1</th>\n",
       "      <td>Alfred</td>\n",
       "      <td>\"university\"</td>\n",
       "      <td>\"123-12-1234\"</td>\n",
       "      <td>41.0</td>\n",
       "      <td>97.0</td>\n",
       "      <td>96.0</td>\n",
       "      <td>97.0</td>\n",
       "      <td>48.0</td>\n",
       "      <td>\"D+\"</td>\n",
       "      <td>\"D+\"</td>\n",
       "    </tr>\n",
       "    <tr>\n",
       "      <th>2</th>\n",
       "      <td>Gerty</td>\n",
       "      <td>\"gramma\"</td>\n",
       "      <td>\"567-89-0123\"</td>\n",
       "      <td>41.0</td>\n",
       "      <td>80.0</td>\n",
       "      <td>60.0</td>\n",
       "      <td>40.0</td>\n",
       "      <td>44.0</td>\n",
       "      <td>\"C\"</td>\n",
       "      <td>\"C\"</td>\n",
       "    </tr>\n",
       "    <tr>\n",
       "      <th>3</th>\n",
       "      <td>Android</td>\n",
       "      <td>\"electric\"</td>\n",
       "      <td>\"087-65-4321\"</td>\n",
       "      <td>42.0</td>\n",
       "      <td>23.0</td>\n",
       "      <td>36.0</td>\n",
       "      <td>45.0</td>\n",
       "      <td>47.0</td>\n",
       "      <td>\"B-\"</td>\n",
       "      <td>\"B-\"</td>\n",
       "    </tr>\n",
       "    <tr>\n",
       "      <th>4</th>\n",
       "      <td>Bumpkin</td>\n",
       "      <td>\"fred\"</td>\n",
       "      <td>\"456-78-9012\"</td>\n",
       "      <td>43.0</td>\n",
       "      <td>78.0</td>\n",
       "      <td>88.0</td>\n",
       "      <td>77.0</td>\n",
       "      <td>45.0</td>\n",
       "      <td>\"A-\"</td>\n",
       "      <td>\"A-\"</td>\n",
       "    </tr>\n",
       "    <tr>\n",
       "      <th>5</th>\n",
       "      <td>Rubble</td>\n",
       "      <td>\"betty\"</td>\n",
       "      <td>\"234-56-7890\"</td>\n",
       "      <td>44.0</td>\n",
       "      <td>90.0</td>\n",
       "      <td>80.0</td>\n",
       "      <td>90.0</td>\n",
       "      <td>46.0</td>\n",
       "      <td>\"C-\"</td>\n",
       "      <td>\"C-\"</td>\n",
       "    </tr>\n",
       "    <tr>\n",
       "      <th>6</th>\n",
       "      <td>Noshow</td>\n",
       "      <td>\"cecil\"</td>\n",
       "      <td>\"345-67-8901\"</td>\n",
       "      <td>45.0</td>\n",
       "      <td>11.0</td>\n",
       "      <td>-1.0</td>\n",
       "      <td>4.0</td>\n",
       "      <td>43.0</td>\n",
       "      <td>\"F\"</td>\n",
       "      <td>\"F\"</td>\n",
       "    </tr>\n",
       "    <tr>\n",
       "      <th>7</th>\n",
       "      <td>Buff</td>\n",
       "      <td>\"bif\"</td>\n",
       "      <td>\"632-79-9939\"</td>\n",
       "      <td>46.0</td>\n",
       "      <td>20.0</td>\n",
       "      <td>30.0</td>\n",
       "      <td>40.0</td>\n",
       "      <td>50.0</td>\n",
       "      <td>\"B+\"</td>\n",
       "      <td>\"B+\"</td>\n",
       "    </tr>\n",
       "    <tr>\n",
       "      <th>8</th>\n",
       "      <td>Airpump</td>\n",
       "      <td>\"andrew\"</td>\n",
       "      <td>\"223-45-6789\"</td>\n",
       "      <td>49.0      1.0</td>\n",
       "      <td>90.0</td>\n",
       "      <td>100.0</td>\n",
       "      <td>83.0</td>\n",
       "      <td>\"A\"</td>\n",
       "      <td>NaN</td>\n",
       "      <td>NaN</td>\n",
       "    </tr>\n",
       "    <tr>\n",
       "      <th>9</th>\n",
       "      <td>Backus</td>\n",
       "      <td>\"jim\"</td>\n",
       "      <td>\"143-12-1234\"</td>\n",
       "      <td>48.0</td>\n",
       "      <td>1.0</td>\n",
       "      <td>97.0</td>\n",
       "      <td>96.0</td>\n",
       "      <td>97.0</td>\n",
       "      <td>\"A+\"</td>\n",
       "      <td>\"A+\"</td>\n",
       "    </tr>\n",
       "    <tr>\n",
       "      <th>10</th>\n",
       "      <td>Carnivore</td>\n",
       "      <td>\"art\"</td>\n",
       "      <td>\"565-89-0123\"</td>\n",
       "      <td>44.0</td>\n",
       "      <td>1.0</td>\n",
       "      <td>80.0</td>\n",
       "      <td>60.0</td>\n",
       "      <td>40.0</td>\n",
       "      <td>\"D+\"</td>\n",
       "      <td>\"D+\"</td>\n",
       "    </tr>\n",
       "    <tr>\n",
       "      <th>11</th>\n",
       "      <td>Dandy</td>\n",
       "      <td>\"jim\"</td>\n",
       "      <td>\"087-75-4321\"</td>\n",
       "      <td>47.0</td>\n",
       "      <td>1.0</td>\n",
       "      <td>23.0</td>\n",
       "      <td>36.0</td>\n",
       "      <td>45.0</td>\n",
       "      <td>\"C+\"</td>\n",
       "      <td>\"C+\"</td>\n",
       "    </tr>\n",
       "    <tr>\n",
       "      <th>12</th>\n",
       "      <td>Elephant</td>\n",
       "      <td>\"ima\"</td>\n",
       "      <td>\"456-71-9012\"</td>\n",
       "      <td>45.0</td>\n",
       "      <td>1.0</td>\n",
       "      <td>78.0</td>\n",
       "      <td>88.0</td>\n",
       "      <td>77.0</td>\n",
       "      <td>\"B-\"</td>\n",
       "      <td>\"B-\"</td>\n",
       "    </tr>\n",
       "    <tr>\n",
       "      <th>13</th>\n",
       "      <td>Franklin</td>\n",
       "      <td>\"benny\"</td>\n",
       "      <td>\"234-56-2890\"</td>\n",
       "      <td>50.0</td>\n",
       "      <td>1.0</td>\n",
       "      <td>90.0</td>\n",
       "      <td>80.0</td>\n",
       "      <td>90.0</td>\n",
       "      <td>\"B-\"</td>\n",
       "      <td>\"B-\"</td>\n",
       "    </tr>\n",
       "    <tr>\n",
       "      <th>14</th>\n",
       "      <td>George</td>\n",
       "      <td>\"boy\"</td>\n",
       "      <td>\"345-67-3901\"</td>\n",
       "      <td>40.0</td>\n",
       "      <td>1.0</td>\n",
       "      <td>11.0</td>\n",
       "      <td>-1.0</td>\n",
       "      <td>4.0</td>\n",
       "      <td>\"B\"</td>\n",
       "      <td>\"B\"</td>\n",
       "    </tr>\n",
       "    <tr>\n",
       "      <th>15</th>\n",
       "      <td>Heffalump</td>\n",
       "      <td>\"harvey\"</td>\n",
       "      <td>\"632-79-9439\"</td>\n",
       "      <td>30.0</td>\n",
       "      <td>1.0</td>\n",
       "      <td>20.0</td>\n",
       "      <td>30.0</td>\n",
       "      <td>40.0</td>\n",
       "      <td>\"C\"</td>\n",
       "      <td>\"C\"</td>\n",
       "    </tr>\n",
       "  </tbody>\n",
       "</table>\n",
       "</div>"
      ],
      "text/plain": [
       "    last name        First name                    SSN          \"Test1  Test2  \\\n",
       "0     Alfalfa        \"aloysius\"          \"123-45-6789\"            40.0   90.0   \n",
       "1      Alfred      \"university\"          \"123-12-1234\"            41.0   97.0   \n",
       "2       Gerty          \"gramma\"          \"567-89-0123\"            41.0   80.0   \n",
       "3     Android        \"electric\"          \"087-65-4321\"            42.0   23.0   \n",
       "4     Bumpkin            \"fred\"          \"456-78-9012\"            43.0   78.0   \n",
       "5      Rubble           \"betty\"          \"234-56-7890\"            44.0   90.0   \n",
       "6      Noshow           \"cecil\"          \"345-67-8901\"            45.0   11.0   \n",
       "7        Buff             \"bif\"          \"632-79-9939\"            46.0   20.0   \n",
       "8     Airpump          \"andrew\"          \"223-45-6789\"   49.0      1.0   90.0   \n",
       "9      Backus             \"jim\"          \"143-12-1234\"            48.0    1.0   \n",
       "10  Carnivore             \"art\"          \"565-89-0123\"            44.0    1.0   \n",
       "11      Dandy             \"jim\"          \"087-75-4321\"            47.0    1.0   \n",
       "12   Elephant             \"ima\"          \"456-71-9012\"            45.0    1.0   \n",
       "13   Franklin           \"benny\"          \"234-56-2890\"            50.0    1.0   \n",
       "14     George             \"boy\"          \"345-67-3901\"            40.0    1.0   \n",
       "15  Heffalump          \"harvey\"          \"632-79-9439\"            30.0    1.0   \n",
       "\n",
       "    Test3  Test4     Final    Grade    grade  \n",
       "0   100.0   83.0      49.0     \"D-\"     \"D-\"  \n",
       "1    96.0   97.0      48.0     \"D+\"     \"D+\"  \n",
       "2    60.0   40.0      44.0      \"C\"      \"C\"  \n",
       "3    36.0   45.0      47.0     \"B-\"     \"B-\"  \n",
       "4    88.0   77.0      45.0     \"A-\"     \"A-\"  \n",
       "5    80.0   90.0      46.0     \"C-\"     \"C-\"  \n",
       "6    -1.0    4.0      43.0      \"F\"      \"F\"  \n",
       "7    30.0   40.0      50.0     \"B+\"     \"B+\"  \n",
       "8   100.0   83.0       \"A\"      NaN      NaN  \n",
       "9    97.0   96.0      97.0     \"A+\"     \"A+\"  \n",
       "10   80.0   60.0      40.0     \"D+\"     \"D+\"  \n",
       "11   23.0   36.0      45.0     \"C+\"     \"C+\"  \n",
       "12   78.0   88.0      77.0     \"B-\"     \"B-\"  \n",
       "13   90.0   80.0      90.0     \"B-\"     \"B-\"  \n",
       "14   11.0   -1.0       4.0      \"B\"      \"B\"  \n",
       "15   20.0   30.0      40.0      \"C\"      \"C\"  "
      ]
     },
     "execution_count": 137,
     "metadata": {},
     "output_type": "execute_result"
    }
   ],
   "source": [
    "student_data[\"grade\"]=student_data[\"Grade\"].replace({\"NaN\":\"F\"})\n",
    "student_data"
   ]
  },
  {
   "cell_type": "code",
   "execution_count": 138,
   "id": "41e3c6c4",
   "metadata": {},
   "outputs": [
    {
     "data": {
      "text/plain": [
       "Test2  Test4  Test3 \n",
       "1.0    -1.0    11.0                4.0\n",
       "        30.0   20.0               40.0\n",
       "        36.0   23.0               45.0\n",
       "        60.0   80.0               40.0\n",
       "        80.0   90.0               90.0\n",
       "        88.0   78.0               77.0\n",
       "        96.0   97.0               97.0\n",
       "11.0    4.0   -1.0                43.0\n",
       "20.0    40.0   30.0               50.0\n",
       "23.0    45.0   36.0               47.0\n",
       "78.0    77.0   88.0               45.0\n",
       "80.0    40.0   60.0               44.0\n",
       "90.0    83.0   100.0        49.0   \"A\"\n",
       "        90.0   80.0               46.0\n",
       "97.0    97.0   96.0               48.0\n",
       "Name: Final, dtype: object"
      ]
     },
     "execution_count": 138,
     "metadata": {},
     "output_type": "execute_result"
    }
   ],
   "source": [
    "test_avarge=student_data.groupby([\"Test2\",\"Test4\",\"Test3\"])[\"Final\"].sum()\n",
    "test_avarge"
   ]
  },
  {
   "cell_type": "code",
   "execution_count": null,
   "id": "2789df7b",
   "metadata": {},
   "outputs": [],
   "source": [
    "student_data"
   ]
  },
  {
   "cell_type": "code",
   "execution_count": 139,
   "id": "feb15006",
   "metadata": {},
   "outputs": [
    {
     "data": {
      "text/plain": [
       "last name                 Alfred\n",
       "First name          \"university\"\n",
       "SSN                \"123-12-1234\"\n",
       "      \"Test1                41.0\n",
       "Test2                       97.0\n",
       "Test3                       96.0\n",
       "Test4                       97.0\n",
       "Final                       48.0\n",
       "Grade                       \"D+\"\n",
       "grade                       \"D+\"\n",
       "test_sum                   290.0\n",
       "Name: 1, dtype: object"
      ]
     },
     "execution_count": 139,
     "metadata": {},
     "output_type": "execute_result"
    }
   ],
   "source": [
    "# df2=student_data.set_index([\"Test2\",\"Test3\",\"Test4\"])\n",
    "# group_data=df2.groupby([\"Test2\",\"Test3\"])\n",
    "# group_data.sum()\n",
    "# df2\n",
    "student_data[\"test_sum\"]=student_data[\"Test2\"]+student_data[\"Test3\"]+student_data[\"Test4\"]\n",
    "max_student=student_data.loc[student_data[\"test_sum\"].idxmax(),::]\n",
    "max_student"
   ]
  },
  {
   "cell_type": "code",
   "execution_count": 140,
   "id": "71ebece0",
   "metadata": {},
   "outputs": [
    {
     "data": {
      "text/plain": [
       "<AxesSubplot:xlabel='last name'>"
      ]
     },
     "execution_count": 140,
     "metadata": {},
     "output_type": "execute_result"
    },
    {
     "data": {
      "image/png": "[encoded data removed]",
      "text/plain": [
       "<Figure size 2160x1080 with 1 Axes>"
      ]
     },
     "metadata": {
      "needs_background": "light"
     },
     "output_type": "display_data"
    }
   ],
   "source": [
    "#graph of all the student with all test sum \n",
    "student_data.plot.bar(x=\"last name\",y=\"test_sum\",figsize=(30,15))"
   ]
  },
  {
   "cell_type": "code",
   "execution_count": 141,
   "id": "cbe36f71",
   "metadata": {},
   "outputs": [
    {
     "data": {
      "text/plain": [
       "<AxesSubplot:xlabel='last name'>"
      ]
     },
     "execution_count": 141,
     "metadata": {},
     "output_type": "execute_result"
    },
    {
     "data": {
      "image/png": "[encoded data removed]",
      "text/plain": [
       "<Figure size 2160x1080 with 1 Axes>"
      ]
     },
     "metadata": {
      "needs_background": "light"
     },
     "output_type": "display_data"
    }
   ],
   "source": [
    "student_data[\"Final\"]=student_data[\"Final\"].replace({'   \"A\"':\"00\"})\n",
    "student_data[\"Final\"]=pd.to_numeric(student_data[\"Final\"])\n",
    "student_data.plot.bar(x=\"last name\",y=\"Final\",figsize=(30,15),stacked=True,rot=0)"
   ]
  },
  {
   "cell_type": "code",
   "execution_count": 142,
   "id": "356ffc6f",
   "metadata": {},
   "outputs": [
    {
     "data": {
      "text/plain": [
       "<AxesSubplot:xlabel='last name'>"
      ]
     },
     "execution_count": 142,
     "metadata": {},
     "output_type": "execute_result"
    },
    {
     "data": {
      "image/png": "[encoded data removed]",
      "text/plain": [
       "<Figure size 2880x1440 with 1 Axes>"
      ]
     },
     "metadata": {
      "needs_background": "light"
     },
     "output_type": "display_data"
    }
   ],
   "source": [
    "df3=student_data[['Final',\"test_sum\" ,\"last name\"]]\n",
    "df3.plot.bar(x=\"last name\",rot=0,figsize=(40,20))"
   ]
  },
  {
   "cell_type": "code",
   "execution_count": 144,
   "id": "e94b460d",
   "metadata": {},
   "outputs": [
    {
     "data": {
      "text/plain": [
       "<AxesSubplot:xlabel='last name'>"
      ]
     },
     "execution_count": 144,
     "metadata": {},
     "output_type": "execute_result"
    },
    {
     "data": {
      "image/png": "[encoded data removed]",
      "text/plain": [
       "<Figure size 2880x1440 with 1 Axes>"
      ]
     },
     "metadata": {
      "needs_background": "light"
     },
     "output_type": "display_data"
    }
   ],
   "source": [
    "#check the all test \n",
    "df3=student_data[['Test2',\"Test3\",\"Test4\" ,\"last name\"]]\n",
    "df3.plot.bar(x=\"last name\",rot=0,figsize=(40,20))\n"
   ]
  },
  {
   "cell_type": "code",
   "execution_count": null,
   "id": "276caeb5",
   "metadata": {},
   "outputs": [],
   "source": []
  }
 ],
 "metadata": {
  "kernelspec": {
   "display_name": "Python 3 (ipykernel)",
   "language": "python",
   "name": "python3"
  },
  "language_info": {
   "codemirror_mode": {
    "name": "ipython",
    "version": 3
   },
   "file_extension": ".py",
   "mimetype": "text/x-python",
   "name": "python",
   "nbconvert_exporter": "python",
   "pygments_lexer": "ipython3",
   "version": "3.8.10"
  }
 },
 "nbformat": 4,
 "nbformat_minor": 5
}
