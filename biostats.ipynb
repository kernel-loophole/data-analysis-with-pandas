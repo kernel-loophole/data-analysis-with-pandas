{
 "cells": [
  {
   "cell_type": "code",
   "execution_count": 14,
   "id": "5290c503",
   "metadata": {},
   "outputs": [],
   "source": [
    "import pandas as pd\n",
    "import numpy as np\n",
    "from sqlalchemy import column\n",
    "import matplotlib.pyplot as plt\n"
   ]
  },
  {
   "cell_type": "code",
   "execution_count": 15,
   "id": "2c4551fc",
   "metadata": {},
   "outputs": [],
   "source": [
    "df=pd.read_csv(\"biostats.csv\")\n"
   ]
  },
  {
   "cell_type": "code",
   "execution_count": 16,
   "id": "ebe5b98f",
   "metadata": {},
   "outputs": [
    {
     "data": {
      "text/html": [
       "<div>\n",
       "<style scoped>\n",
       "    .dataframe tbody tr th:only-of-type {\n",
       "        vertical-align: middle;\n",
       "    }\n",
       "\n",
       "    .dataframe tbody tr th {\n",
       "        vertical-align: top;\n",
       "    }\n",
       "\n",
       "    .dataframe thead th {\n",
       "        text-align: right;\n",
       "    }\n",
       "</style>\n",
       "<table border=\"1\" class=\"dataframe\">\n",
       "  <thead>\n",
       "    <tr style=\"text-align: right;\">\n",
       "      <th></th>\n",
       "      <th>m</th>\n",
       "      <th>\"Sex</th>\n",
       "      <th>Age</th>\n",
       "      <th>Height (in)</th>\n",
       "      <th>Weight (lbs)</th>\n",
       "    </tr>\n",
       "  </thead>\n",
       "  <tbody>\n",
       "    <tr>\n",
       "      <th>0</th>\n",
       "      <td>Alex</td>\n",
       "      <td>\"M\"</td>\n",
       "      <td>41</td>\n",
       "      <td>74</td>\n",
       "      <td>170</td>\n",
       "    </tr>\n",
       "    <tr>\n",
       "      <th>1</th>\n",
       "      <td>Bert</td>\n",
       "      <td>\"M\"</td>\n",
       "      <td>42</td>\n",
       "      <td>68</td>\n",
       "      <td>166</td>\n",
       "    </tr>\n",
       "    <tr>\n",
       "      <th>2</th>\n",
       "      <td>Carl</td>\n",
       "      <td>\"M\"</td>\n",
       "      <td>32</td>\n",
       "      <td>70</td>\n",
       "      <td>155</td>\n",
       "    </tr>\n",
       "    <tr>\n",
       "      <th>3</th>\n",
       "      <td>Dave</td>\n",
       "      <td>\"M\"</td>\n",
       "      <td>39</td>\n",
       "      <td>72</td>\n",
       "      <td>167</td>\n",
       "    </tr>\n",
       "    <tr>\n",
       "      <th>4</th>\n",
       "      <td>Elly</td>\n",
       "      <td>\"F\"</td>\n",
       "      <td>30</td>\n",
       "      <td>66</td>\n",
       "      <td>124</td>\n",
       "    </tr>\n",
       "    <tr>\n",
       "      <th>5</th>\n",
       "      <td>Fran</td>\n",
       "      <td>\"F\"</td>\n",
       "      <td>33</td>\n",
       "      <td>66</td>\n",
       "      <td>115</td>\n",
       "    </tr>\n",
       "    <tr>\n",
       "      <th>6</th>\n",
       "      <td>Gwen</td>\n",
       "      <td>\"F\"</td>\n",
       "      <td>26</td>\n",
       "      <td>64</td>\n",
       "      <td>121</td>\n",
       "    </tr>\n",
       "    <tr>\n",
       "      <th>7</th>\n",
       "      <td>Hank</td>\n",
       "      <td>\"M\"</td>\n",
       "      <td>30</td>\n",
       "      <td>71</td>\n",
       "      <td>158</td>\n",
       "    </tr>\n",
       "    <tr>\n",
       "      <th>8</th>\n",
       "      <td>Ivan</td>\n",
       "      <td>\"M\"</td>\n",
       "      <td>53</td>\n",
       "      <td>72</td>\n",
       "      <td>175</td>\n",
       "    </tr>\n",
       "    <tr>\n",
       "      <th>9</th>\n",
       "      <td>Jake</td>\n",
       "      <td>\"M\"</td>\n",
       "      <td>32</td>\n",
       "      <td>69</td>\n",
       "      <td>143</td>\n",
       "    </tr>\n",
       "    <tr>\n",
       "      <th>10</th>\n",
       "      <td>Kate</td>\n",
       "      <td>\"F\"</td>\n",
       "      <td>47</td>\n",
       "      <td>69</td>\n",
       "      <td>139</td>\n",
       "    </tr>\n",
       "    <tr>\n",
       "      <th>11</th>\n",
       "      <td>Luke</td>\n",
       "      <td>\"M\"</td>\n",
       "      <td>34</td>\n",
       "      <td>72</td>\n",
       "      <td>163</td>\n",
       "    </tr>\n",
       "    <tr>\n",
       "      <th>12</th>\n",
       "      <td>Myra</td>\n",
       "      <td>\"F\"</td>\n",
       "      <td>23</td>\n",
       "      <td>62</td>\n",
       "      <td>98</td>\n",
       "    </tr>\n",
       "    <tr>\n",
       "      <th>13</th>\n",
       "      <td>Neil</td>\n",
       "      <td>\"M\"</td>\n",
       "      <td>36</td>\n",
       "      <td>75</td>\n",
       "      <td>160</td>\n",
       "    </tr>\n",
       "    <tr>\n",
       "      <th>14</th>\n",
       "      <td>Omar</td>\n",
       "      <td>\"M\"</td>\n",
       "      <td>38</td>\n",
       "      <td>70</td>\n",
       "      <td>145</td>\n",
       "    </tr>\n",
       "    <tr>\n",
       "      <th>15</th>\n",
       "      <td>Page</td>\n",
       "      <td>\"F\"</td>\n",
       "      <td>31</td>\n",
       "      <td>67</td>\n",
       "      <td>135</td>\n",
       "    </tr>\n",
       "    <tr>\n",
       "      <th>16</th>\n",
       "      <td>Quin</td>\n",
       "      <td>\"M\"</td>\n",
       "      <td>29</td>\n",
       "      <td>71</td>\n",
       "      <td>176</td>\n",
       "    </tr>\n",
       "    <tr>\n",
       "      <th>17</th>\n",
       "      <td>Ruth</td>\n",
       "      <td>\"F\"</td>\n",
       "      <td>28</td>\n",
       "      <td>65</td>\n",
       "      <td>131</td>\n",
       "    </tr>\n",
       "  </tbody>\n",
       "</table>\n",
       "</div>"
      ],
      "text/plain": [
       "       m        \"Sex  Age  Height (in)  Weight (lbs)\n",
       "0   Alex         \"M\"   41           74           170\n",
       "1   Bert         \"M\"   42           68           166\n",
       "2   Carl         \"M\"   32           70           155\n",
       "3   Dave         \"M\"   39           72           167\n",
       "4   Elly         \"F\"   30           66           124\n",
       "5   Fran         \"F\"   33           66           115\n",
       "6   Gwen         \"F\"   26           64           121\n",
       "7   Hank         \"M\"   30           71           158\n",
       "8   Ivan         \"M\"   53           72           175\n",
       "9   Jake         \"M\"   32           69           143\n",
       "10  Kate         \"F\"   47           69           139\n",
       "11  Luke         \"M\"   34           72           163\n",
       "12  Myra         \"F\"   23           62            98\n",
       "13  Neil         \"M\"   36           75           160\n",
       "14  Omar         \"M\"   38           70           145\n",
       "15  Page         \"F\"   31           67           135\n",
       "16  Quin         \"M\"   29           71           176\n",
       "17  Ruth         \"F\"   28           65           131"
      ]
     },
     "execution_count": 16,
     "metadata": {},
     "output_type": "execute_result"
    }
   ],
   "source": [
    "df.columns=[col[2:-1] for col in df.columns]\n",
    "\n",
    "# change_col1=df.columns[0]\n",
    "# df=df.rename(columns={change_col:\"SEX\",change_col1:\"Name\"})\n",
    "# df\n",
    "df"
   ]
  },
  {
   "cell_type": "code",
   "execution_count": 20,
   "id": "3634852d",
   "metadata": {},
   "outputs": [
    {
     "data": {
      "text/html": [
       "<div>\n",
       "<style scoped>\n",
       "    .dataframe tbody tr th:only-of-type {\n",
       "        vertical-align: middle;\n",
       "    }\n",
       "\n",
       "    .dataframe tbody tr th {\n",
       "        vertical-align: top;\n",
       "    }\n",
       "\n",
       "    .dataframe thead th {\n",
       "        text-align: right;\n",
       "    }\n",
       "</style>\n",
       "<table border=\"1\" class=\"dataframe\">\n",
       "  <thead>\n",
       "    <tr style=\"text-align: right;\">\n",
       "      <th></th>\n",
       "      <th>m</th>\n",
       "      <th>\"Sex</th>\n",
       "      <th>Age</th>\n",
       "      <th>Height (in)</th>\n",
       "      <th>Weight (lbs)</th>\n",
       "    </tr>\n",
       "  </thead>\n",
       "  <tbody>\n",
       "    <tr>\n",
       "      <th>0</th>\n",
       "      <td>Alex</td>\n",
       "      <td>\"M\"</td>\n",
       "      <td>41</td>\n",
       "      <td>74</td>\n",
       "      <td>170</td>\n",
       "    </tr>\n",
       "    <tr>\n",
       "      <th>4</th>\n",
       "      <td>Elly</td>\n",
       "      <td>\"F\"</td>\n",
       "      <td>30</td>\n",
       "      <td>66</td>\n",
       "      <td>124</td>\n",
       "    </tr>\n",
       "    <tr>\n",
       "      <th>7</th>\n",
       "      <td>Hank</td>\n",
       "      <td>\"M\"</td>\n",
       "      <td>30</td>\n",
       "      <td>71</td>\n",
       "      <td>158</td>\n",
       "    </tr>\n",
       "    <tr>\n",
       "      <th>11</th>\n",
       "      <td>Luke</td>\n",
       "      <td>\"M\"</td>\n",
       "      <td>34</td>\n",
       "      <td>72</td>\n",
       "      <td>163</td>\n",
       "    </tr>\n",
       "  </tbody>\n",
       "</table>\n",
       "</div>"
      ],
      "text/plain": [
       "       m        \"Sex  Age  Height (in)  Weight (lbs)\n",
       "0   Alex         \"M\"   41           74           170\n",
       "4   Elly         \"F\"   30           66           124\n",
       "7   Hank         \"M\"   30           71           158\n",
       "11  Luke         \"M\"   34           72           163"
      ]
     },
     "execution_count": 20,
     "metadata": {},
     "output_type": "execute_result"
    }
   ],
   "source": [
    "# isin check for either vlaue is 41,30,34,37 and height > 60\n",
    "age_30=df[(df[\"Age\"].isin([41,30,34,37])) &  (df[\"Height (in)\"]>60) ]\n",
    "get_name=df.loc[df[\"Age\"]>41,[\"m\",\"Height (in)\"]]\n",
    "get_name\n",
    "age_30"
   ]
  },
  {
   "cell_type": "code",
   "execution_count": 22,
   "id": "0cc4dad6",
   "metadata": {},
   "outputs": [
    {
     "data": {
      "text/html": [
       "<div>\n",
       "<style scoped>\n",
       "    .dataframe tbody tr th:only-of-type {\n",
       "        vertical-align: middle;\n",
       "    }\n",
       "\n",
       "    .dataframe tbody tr th {\n",
       "        vertical-align: top;\n",
       "    }\n",
       "\n",
       "    .dataframe thead th {\n",
       "        text-align: right;\n",
       "    }\n",
       "</style>\n",
       "<table border=\"1\" class=\"dataframe\">\n",
       "  <thead>\n",
       "    <tr style=\"text-align: right;\">\n",
       "      <th></th>\n",
       "      <th>Height (in)</th>\n",
       "      <th>Weight (lbs)</th>\n",
       "    </tr>\n",
       "  </thead>\n",
       "  <tbody>\n",
       "    <tr>\n",
       "      <th>2</th>\n",
       "      <td>70</td>\n",
       "      <td>155</td>\n",
       "    </tr>\n",
       "    <tr>\n",
       "      <th>3</th>\n",
       "      <td>72</td>\n",
       "      <td>167</td>\n",
       "    </tr>\n",
       "    <tr>\n",
       "      <th>4</th>\n",
       "      <td>66</td>\n",
       "      <td>124</td>\n",
       "    </tr>\n",
       "    <tr>\n",
       "      <th>5</th>\n",
       "      <td>66</td>\n",
       "      <td>115</td>\n",
       "    </tr>\n",
       "    <tr>\n",
       "      <th>6</th>\n",
       "      <td>64</td>\n",
       "      <td>121</td>\n",
       "    </tr>\n",
       "    <tr>\n",
       "      <th>7</th>\n",
       "      <td>71</td>\n",
       "      <td>158</td>\n",
       "    </tr>\n",
       "    <tr>\n",
       "      <th>8</th>\n",
       "      <td>72</td>\n",
       "      <td>175</td>\n",
       "    </tr>\n",
       "    <tr>\n",
       "      <th>9</th>\n",
       "      <td>69</td>\n",
       "      <td>143</td>\n",
       "    </tr>\n",
       "  </tbody>\n",
       "</table>\n",
       "</div>"
      ],
      "text/plain": [
       "   Height (in)  Weight (lbs)\n",
       "2           70           155\n",
       "3           72           167\n",
       "4           66           124\n",
       "5           66           115\n",
       "6           64           121\n",
       "7           71           158\n",
       "8           72           175\n",
       "9           69           143"
      ]
     },
     "execution_count": 22,
     "metadata": {},
     "output_type": "execute_result"
    }
   ],
   "source": [
    "#2 to 9 row and 3 to 5 column\n",
    "df.iloc[2:10,3:6]"
   ]
  },
  {
   "cell_type": "code",
   "execution_count": 38,
   "id": "fd21fcdb",
   "metadata": {},
   "outputs": [
    {
     "data": {
      "text/plain": [
       "<AxesSubplot:>"
      ]
     },
     "execution_count": 38,
     "metadata": {},
     "output_type": "execute_result"
    },
    {
     "data": {
      "text/plain": [
       "<Figure size 432x288 with 0 Axes>"
      ]
     },
     "metadata": {},
     "output_type": "display_data"
    },
    {
     "data": {
      "image/png": "[encoded data removed]",
      "text/plain": [
       "<Figure size 432x432 with 1 Axes>"
      ]
     },
     "metadata": {
      "needs_background": "light"
     },
     "output_type": "display_data"
    }
   ],
   "source": [
    "df=df.cumsum()\n",
    "plt.figure()\n",
    "df.plot(figsize=(6,6))"
   ]
  },
  {
   "cell_type": "code",
   "execution_count": 44,
   "id": "8bf27c18",
   "metadata": {},
   "outputs": [
    {
     "name": "stdout",
     "output_type": "stream",
     "text": [
      "AxesSubplot(0.125,0.125;0.775x0.755)\n"
     ]
    },
    {
     "data": {
      "image/png": "[encoded data removed]",
      "text/plain": [
       "<Figure size 504x504 with 1 Axes>"
      ]
     },
     "metadata": {
      "needs_background": "light"
     },
     "output_type": "display_data"
    }
   ],
   "source": [
    "print(df[\"Age\"].plot(kind=\"bar\",figsize=(7,7),color=\"black\",alpha=0.8))"
   ]
  },
  {
   "cell_type": "code",
   "execution_count": 51,
   "id": "a89e4829",
   "metadata": {},
   "outputs": [
    {
     "data": {
      "text/plain": [
       "<AxesSubplot:ylabel='Frequency'>"
      ]
     },
     "execution_count": 51,
     "metadata": {},
     "output_type": "execute_result"
    },
    {
     "data": {
      "image/png": "[encoded data removed]",
      "text/plain": [
       "<Figure size 432x288 with 1 Axes>"
      ]
     },
     "metadata": {
      "needs_background": "light"
     },
     "output_type": "display_data"
    }
   ],
   "source": [
    "df[\"Height (in)\"].plot.hist()"
   ]
  },
  {
   "cell_type": "code",
   "execution_count": null,
   "id": "bb81326b",
   "metadata": {},
   "outputs": [],
   "source": []
  }
 ],
 "metadata": {
  "kernelspec": {
   "display_name": "Python 3 (ipykernel)",
   "language": "python",
   "name": "python3"
  },
  "language_info": {
   "codemirror_mode": {
    "name": "ipython",
    "version": 3
   },
   "file_extension": ".py",
   "mimetype": "text/x-python",
   "name": "python",
   "nbconvert_exporter": "python",
   "pygments_lexer": "ipython3",
   "version": "3.8.10"
  }
 },
 "nbformat": 4,
 "nbformat_minor": 5
}
